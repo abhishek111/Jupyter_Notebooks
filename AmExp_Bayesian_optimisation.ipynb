{
 "cells": [
  {
   "cell_type": "code",
   "execution_count": 0,
   "metadata": {
    "colab": {},
    "colab_type": "code",
    "id": "dTYnSxYwaCBC"
   },
   "outputs": [],
   "source": [
    "import pandas as pd\n",
    "import numpy as np\n",
    "\n",
    "import seaborn as sns\n",
    "import matplotlib.pyplot as plt\n",
    "%matplotlib inline\n",
    "\n",
    "from sklearn.preprocessing import MinMaxScaler\n",
    "from sklearn.model_selection import train_test_split, cross_val_score\n",
    "from sklearn.model_selection import KFold,StratifiedKFold, cross_val_score, train_test_split\n",
    "\n",
    "\n",
    "import lightgbm as lgb\n",
    "import xgboost as xgb\n",
    "import catboost as cb\n",
    "from sklearn.ensemble import AdaBoostClassifier, GradientBoostingClassifier, RandomForestClassifier\n",
    "from xgboost import XGBClassifier\n",
    "from sklearn.tree import DecisionTreeClassifier\n",
    "from lightgbm import LGBMClassifier\n",
    "from catboost import CatBoostClassifier,Pool, cv\n",
    "\n",
    "from sklearn.metrics import mean_squared_error, accuracy_score, roc_auc_score, f1_score"
   ]
  },
  {
   "cell_type": "code",
   "execution_count": 1,
   "metadata": {},
   "outputs": [
    {
     "name": "stdout",
     "output_type": "stream",
     "text": [
      "Collecting bayesian-optimization\n",
      "  Downloading https://files.pythonhosted.org/packages/72/0c/173ac467d0a53e33e41b521e4ceba74a8ac7c7873d7b857a8fbdca88302d/bayesian-optimization-1.0.1.tar.gz\n",
      "Requirement already satisfied: numpy>=1.9.0 in c:\\users\\kumarabh\\appdata\\local\\continuum\\anaconda3\\lib\\site-packages (from bayesian-optimization) (1.16.4)\n",
      "Requirement already satisfied: scipy>=0.14.0 in c:\\users\\kumarabh\\appdata\\local\\continuum\\anaconda3\\lib\\site-packages (from bayesian-optimization) (1.1.0)\n",
      "Requirement already satisfied: scikit-learn>=0.18.0 in c:\\users\\kumarabh\\appdata\\local\\continuum\\anaconda3\\lib\\site-packages (from bayesian-optimization) (0.21.3)\n",
      "Requirement already satisfied: joblib>=0.11 in c:\\users\\kumarabh\\appdata\\local\\continuum\\anaconda3\\lib\\site-packages (from scikit-learn>=0.18.0->bayesian-optimization) (0.13.2)\n",
      "Building wheels for collected packages: bayesian-optimization\n",
      "  Running setup.py bdist_wheel for bayesian-optimization: started\n",
      "  Running setup.py bdist_wheel for bayesian-optimization: finished with status 'done'\n",
      "  Stored in directory: C:\\Users\\kumarabh\\AppData\\Local\\pip\\Cache\\wheels\\1d\\0d\\3b\\6b9d4477a34b3905f246ff4e7acf6aafd4cc9b77d473629b77\n",
      "Successfully built bayesian-optimization\n",
      "Installing collected packages: bayesian-optimization\n",
      "Successfully installed bayesian-optimization-1.0.1\n"
     ]
    },
    {
     "name": "stderr",
     "output_type": "stream",
     "text": [
      "twisted 18.7.0 requires PyHamcrest>=1.9.0, which is not installed.\n",
      "You are using pip version 10.0.1, however version 19.2.3 is available.\n",
      "You should consider upgrading via the 'python -m pip install --upgrade pip' command.\n"
     ]
    }
   ],
   "source": [
    "!pip install bayesian-optimization"
   ]
  },
  {
   "cell_type": "code",
   "execution_count": 2,
   "metadata": {
    "colab": {},
    "colab_type": "code",
    "id": "gylMhyAs0HNL"
   },
   "outputs": [],
   "source": [
    "from bayes_opt import BayesianOptimization"
   ]
  },
  {
   "cell_type": "code",
   "execution_count": 0,
   "metadata": {
    "colab": {
     "base_uri": "https://localhost:8080/",
     "height": 34
    },
    "colab_type": "code",
    "id": "laIga81taYbu",
    "outputId": "b411691e-e192-422c-a283-b05f51b178f1"
   },
   "outputs": [
    {
     "name": "stdout",
     "output_type": "stream",
     "text": [
      "Mounted at /content/gdrive\n"
     ]
    }
   ],
   "source": [
    "from google.colab import drive\n",
    "drive.mount('/content/gdrive')"
   ]
  },
  {
   "cell_type": "code",
   "execution_count": 0,
   "metadata": {
    "colab": {
     "base_uri": "https://localhost:8080/",
     "height": 34
    },
    "colab_type": "code",
    "id": "OrDCLUIzapfj",
    "outputId": "b8c10d89-1032-414b-ca38-3585d88d52be"
   },
   "outputs": [
    {
     "name": "stdout",
     "output_type": "stream",
     "text": [
      "['testF.csv', 'trainF.csv', 'test.csv', 'Norm_LGBC.csv', 'AmExpert_Redemption.ipynb', 'testX.csv', 'trainX.csv']\n"
     ]
    }
   ],
   "source": [
    "import os\n",
    "print(os.listdir(\"../content/gdrive/My Drive/Colab Notebooks/AmExpert\"))"
   ]
  },
  {
   "cell_type": "code",
   "execution_count": 0,
   "metadata": {
    "colab": {},
    "colab_type": "code",
    "id": "hQIuj2wibMFL"
   },
   "outputs": [],
   "source": [
    "train = pd.read_csv(\"../content/gdrive/My Drive/Colab Notebooks/AmExpert/trainF.csv\")\n",
    "test = pd.read_csv(\"../content/gdrive/My Drive/Colab Notebooks/AmExpert/testF.csv\")"
   ]
  },
  {
   "cell_type": "code",
   "execution_count": 0,
   "metadata": {
    "colab": {},
    "colab_type": "code",
    "id": "WUHG3X-we7bw"
   },
   "outputs": [],
   "source": [
    "test1 = pd.read_csv(\"../content/gdrive/My Drive/Colab Notebooks/AmExpert/test.csv\")"
   ]
  },
  {
   "cell_type": "code",
   "execution_count": 0,
   "metadata": {
    "colab": {
     "base_uri": "https://localhost:8080/",
     "height": 34
    },
    "colab_type": "code",
    "id": "oyd2slaxbatt",
    "outputId": "a9ee288f-9121-4505-cbf5-7b1da5fd4246"
   },
   "outputs": [
    {
     "data": {
      "text/plain": [
       "((78369, 66), (50226, 65))"
      ]
     },
     "execution_count": 7,
     "metadata": {
      "tags": []
     },
     "output_type": "execute_result"
    }
   ],
   "source": [
    "train.shape, test.shape"
   ]
  },
  {
   "cell_type": "code",
   "execution_count": 0,
   "metadata": {
    "colab": {
     "base_uri": "https://localhost:8080/",
     "height": 67
    },
    "colab_type": "code",
    "id": "KeFyGP6exzK_",
    "outputId": "d36004c6-5ef1-4924-e4ec-b991311ef286"
   },
   "outputs": [
    {
     "data": {
      "text/plain": [
       "0    77640\n",
       "1      729\n",
       "Name: redemption_status, dtype: int64"
      ]
     },
     "execution_count": 8,
     "metadata": {
      "tags": []
     },
     "output_type": "execute_result"
    }
   ],
   "source": [
    "train['redemption_status'].value_counts()"
   ]
  },
  {
   "cell_type": "code",
   "execution_count": 0,
   "metadata": {
    "colab": {},
    "colab_type": "code",
    "id": "UbLjVqR6bekc"
   },
   "outputs": [],
   "source": [
    "target = train['redemption_status']\n",
    "train.drop('redemption_status', axis = 1, inplace = True)"
   ]
  },
  {
   "cell_type": "code",
   "execution_count": 0,
   "metadata": {
    "colab": {},
    "colab_type": "code",
    "id": "2S-oe2x9d8Do"
   },
   "outputs": [],
   "source": [
    "from sklearn.preprocessing import StandardScaler\n",
    "sc=StandardScaler()\n",
    "train[train.columns]=sc.fit_transform(train)\n",
    "test[test.columns]=sc.transform(test)"
   ]
  },
  {
   "cell_type": "code",
   "execution_count": 0,
   "metadata": {
    "colab": {},
    "colab_type": "code",
    "id": "MajoZwyk7_ba"
   },
   "outputs": [],
   "source": [
    "import xgboost as xgb\n",
    "import warnings"
   ]
  },
  {
   "cell_type": "code",
   "execution_count": 0,
   "metadata": {
    "colab": {
     "base_uri": "https://localhost:8080/",
     "height": 84
    },
    "colab_type": "code",
    "id": "f3WWpuOQ-CGL",
    "outputId": "dec8ad1b-9410-498d-ddb3-64357115266f"
   },
   "outputs": [
    {
     "name": "stderr",
     "output_type": "stream",
     "text": [
      "/usr/local/lib/python3.6/dist-packages/xgboost/core.py:587: FutureWarning: Series.base is deprecated and will be removed in a future version\n",
      "  if getattr(data, 'base', None) is not None and \\\n",
      "/usr/local/lib/python3.6/dist-packages/xgboost/core.py:588: FutureWarning: Series.base is deprecated and will be removed in a future version\n",
      "  data.base is not None and isinstance(data, np.ndarray) \\\n"
     ]
    }
   ],
   "source": [
    "dtrain = xgb.DMatrix(train, label=target)\n",
    "#dtest = xgb.DMatrix(x_test)"
   ]
  },
  {
   "cell_type": "code",
   "execution_count": 0,
   "metadata": {
    "colab": {},
    "colab_type": "code",
    "id": "zy8cctDdKg8D"
   },
   "outputs": [],
   "source": [
    "AUCbest = -1\n",
    "ITERbest = 0"
   ]
  },
  {
   "cell_type": "code",
   "execution_count": 0,
   "metadata": {
    "colab": {
     "base_uri": "https://localhost:8080/",
     "height": 84
    },
    "colab_type": "code",
    "id": "z52woA6JwfT2",
    "outputId": "8ea8d201-e969-4725-8825-5438f6036116"
   },
   "outputs": [
    {
     "name": "stderr",
     "output_type": "stream",
     "text": [
      "/usr/local/lib/python3.6/dist-packages/xgboost/core.py:587: FutureWarning: Series.base is deprecated and will be removed in a future version\n",
      "  if getattr(data, 'base', None) is not None and \\\n",
      "/usr/local/lib/python3.6/dist-packages/xgboost/core.py:588: FutureWarning: Series.base is deprecated and will be removed in a future version\n",
      "  data.base is not None and isinstance(data, np.ndarray) \\\n"
     ]
    }
   ],
   "source": [
    "dtrain = xgb.DMatrix(train, label=target)"
   ]
  },
  {
   "cell_type": "code",
   "execution_count": 0,
   "metadata": {
    "colab": {},
    "colab_type": "code",
    "id": "C3sQkM6L7lLe"
   },
   "outputs": [],
   "source": [
    "def xgb_evaluate(n_estimators,num_leaves,max_depth, gamma, subsample, colsample_bytree, min_child_weight, max_delta_step,learning_rate, reg_alpha, reg_lambda):\n",
    "    global AUCbest\n",
    "    global ITERbest\n",
    "    params = {\n",
    "              'booster' : 'gbtree',\n",
    "              'n_estimators': int(n_estimators),\n",
    "              'num_leaves' : int(num_leaves),\n",
    "              'max_depth' : int(max_depth),\n",
    "              'gamma' : gamma,\n",
    "              'eta' : 0.1,\n",
    "              'objective' : 'binary:logistic',\n",
    "              'nthread' : 4,\n",
    "              'silent' : True,\n",
    "              'eval_metric': 'auc',\n",
    "              'subsample' : max(min(subsample, 1), 0),\n",
    "              'colsample_bytree' : max(min(colsample_bytree, 1), 0),\n",
    "              'min_child_weight' : min_child_weight,\n",
    "              'max_delta_step' : int(max_delta_step),\n",
    "              'learning_rate' : learning_rate,\n",
    "              'reg_alpha': reg_alpha,\n",
    "              'reg_lambda': reg_lambda,\n",
    "              'scale_pos_weight': 106,\n",
    "              'seed' : 1993\n",
    "              }\n",
    "    \n",
    "    xgbc = xgb.cv(params, dtrain, num_boost_round=1000,early_stopping_rounds = 100,stratified = True, nfold=3)    \n",
    "    \n",
    "    val_score = xgbc['test-auc-mean'].iloc[-1]\n",
    "    train_score = xgbc['train-auc-mean'].iloc[-1]\n",
    "    \n",
    "    print(' Stopped after %d iterations with train-auc = %f val-auc = %f ( diff = %f ) train-gini = %f val-gini = %f' % ( len(xgbc), train_score, val_score, (train_score - val_score), (train_score*2-1),\n",
    "    (val_score*2-1)) )\n",
    "    if ( val_score > AUCbest ):\n",
    "        AUCbest = val_score\n",
    "        ITERbest = len(xgbc)\n",
    "\n",
    "    return (val_score*2) - 1"
   ]
  },
  {
   "cell_type": "code",
   "execution_count": 0,
   "metadata": {
    "colab": {
     "base_uri": "https://localhost:8080/",
     "height": 1000
    },
    "colab_type": "code",
    "id": "kRHUg6rkDJ_i",
    "outputId": "a39e67b2-364a-4422-9c17-6d313e6dfb01"
   },
   "outputs": [
    {
     "name": "stdout",
     "output_type": "stream",
     "text": [
      "|   iter    |  target   | colsam... |   gamma   | learni... | max_de... | max_depth | min_ch... | n_esti... | num_le... | reg_alpha | reg_la... | subsample |\n",
      "-------------------------------------------------------------------------------------------------------------------------------------------------------------\n",
      " Stopped after 4 iterations with train-auc = 0.949949 val-auc = 0.932545 ( diff = 0.017404 ) train-gini = 0.899897 val-gini = 0.865090\n",
      "| \u001b[0m 1       \u001b[0m | \u001b[0m 0.8651  \u001b[0m | \u001b[0m 0.4603  \u001b[0m | \u001b[0m 2.195   \u001b[0m | \u001b[0m 0.4662  \u001b[0m | \u001b[0m 3.314   \u001b[0m | \u001b[0m 4.886   \u001b[0m | \u001b[0m 3.368   \u001b[0m | \u001b[0m 2.014e+0\u001b[0m | \u001b[0m 78.06   \u001b[0m | \u001b[0m 5.708   \u001b[0m | \u001b[0m 1.846   \u001b[0m | \u001b[0m 0.9754  \u001b[0m |\n",
      " Stopped after 9 iterations with train-auc = 0.947207 val-auc = 0.934662 ( diff = 0.012545 ) train-gini = 0.894413 val-gini = 0.869323\n",
      "| \u001b[95m 2       \u001b[0m | \u001b[95m 0.8693  \u001b[0m | \u001b[95m 0.7355  \u001b[0m | \u001b[95m 8.388   \u001b[0m | \u001b[95m 0.292   \u001b[0m | \u001b[95m 5.537   \u001b[0m | \u001b[95m 3.048   \u001b[0m | \u001b[95m 6.129   \u001b[0m | \u001b[95m 1.754e+0\u001b[0m | \u001b[95m 77.35   \u001b[0m | \u001b[95m 9.042   \u001b[0m | \u001b[95m 5.165   \u001b[0m | \u001b[95m 0.731   \u001b[0m |\n",
      " Stopped after 20 iterations with train-auc = 0.940763 val-auc = 0.934383 ( diff = 0.006380 ) train-gini = 0.881527 val-gini = 0.868766\n",
      "| \u001b[0m 3       \u001b[0m | \u001b[0m 0.8688  \u001b[0m | \u001b[0m 0.4796  \u001b[0m | \u001b[0m 6.944   \u001b[0m | \u001b[0m 0.4529  \u001b[0m | \u001b[0m 2.76    \u001b[0m | \u001b[0m 1.106   \u001b[0m | \u001b[0m 5.436   \u001b[0m | \u001b[0m 2.489e+0\u001b[0m | \u001b[0m 61.32   \u001b[0m | \u001b[0m 9.308   \u001b[0m | \u001b[0m 1.825   \u001b[0m | \u001b[0m 0.9649  \u001b[0m |\n",
      " Stopped after 9 iterations with train-auc = 0.958301 val-auc = 0.927360 ( diff = 0.030941 ) train-gini = 0.916603 val-gini = 0.854721\n",
      "| \u001b[0m 4       \u001b[0m | \u001b[0m 0.8547  \u001b[0m | \u001b[0m 0.6584  \u001b[0m | \u001b[0m 8.807   \u001b[0m | \u001b[0m 0.4336  \u001b[0m | \u001b[0m 1.361   \u001b[0m | \u001b[0m 5.229   \u001b[0m | \u001b[0m 16.25   \u001b[0m | \u001b[0m 1.001e+0\u001b[0m | \u001b[0m 21.89   \u001b[0m | \u001b[0m 4.181   \u001b[0m | \u001b[0m 6.497   \u001b[0m | \u001b[0m 0.5023  \u001b[0m |\n",
      " Stopped after 9 iterations with train-auc = 0.956508 val-auc = 0.932866 ( diff = 0.023642 ) train-gini = 0.913017 val-gini = 0.865732\n",
      "| \u001b[0m 5       \u001b[0m | \u001b[0m 0.8657  \u001b[0m | \u001b[0m 0.8978  \u001b[0m | \u001b[0m 8.923   \u001b[0m | \u001b[0m 0.3307  \u001b[0m | \u001b[0m 8.786   \u001b[0m | \u001b[0m 4.804   \u001b[0m | \u001b[0m 17.97   \u001b[0m | \u001b[0m 2.998e+0\u001b[0m | \u001b[0m 97.09   \u001b[0m | \u001b[0m 4.477   \u001b[0m | \u001b[0m 6.475   \u001b[0m | \u001b[0m 0.7682  \u001b[0m |\n",
      " Stopped after 9 iterations with train-auc = 0.973380 val-auc = 0.929989 ( diff = 0.043391 ) train-gini = 0.946759 val-gini = 0.859977\n",
      "| \u001b[0m 6       \u001b[0m | \u001b[0m 0.86    \u001b[0m | \u001b[0m 0.8778  \u001b[0m | \u001b[0m 9.478   \u001b[0m | \u001b[0m 0.3882  \u001b[0m | \u001b[0m 5.742   \u001b[0m | \u001b[0m 6.554   \u001b[0m | \u001b[0m 17.22   \u001b[0m | \u001b[0m 2.964e+0\u001b[0m | \u001b[0m 20.64   \u001b[0m | \u001b[0m 8.8     \u001b[0m | \u001b[0m 9.464   \u001b[0m | \u001b[0m 0.8281  \u001b[0m |\n",
      " Stopped after 33 iterations with train-auc = 0.957314 val-auc = 0.934526 ( diff = 0.022788 ) train-gini = 0.914628 val-gini = 0.869053\n",
      "| \u001b[0m 7       \u001b[0m | \u001b[0m 0.8691  \u001b[0m | \u001b[0m 0.7478  \u001b[0m | \u001b[0m 6.765   \u001b[0m | \u001b[0m 0.1055  \u001b[0m | \u001b[0m 8.542   \u001b[0m | \u001b[0m 4.736   \u001b[0m | \u001b[0m 16.85   \u001b[0m | \u001b[0m 2.606e+0\u001b[0m | \u001b[0m 99.61   \u001b[0m | \u001b[0m 9.621   \u001b[0m | \u001b[0m 6.804   \u001b[0m | \u001b[0m 0.4915  \u001b[0m |\n",
      " Stopped after 106 iterations with train-auc = 0.940424 val-auc = 0.935859 ( diff = 0.004565 ) train-gini = 0.880847 val-gini = 0.871717\n",
      "| \u001b[95m 8       \u001b[0m | \u001b[95m 0.8717  \u001b[0m | \u001b[95m 0.4507  \u001b[0m | \u001b[95m 8.828   \u001b[0m | \u001b[95m 0.05309 \u001b[0m | \u001b[95m 8.201   \u001b[0m | \u001b[95m 1.105   \u001b[0m | \u001b[95m 2.958   \u001b[0m | \u001b[95m 2.284e+0\u001b[0m | \u001b[95m 98.65   \u001b[0m | \u001b[95m 8.692   \u001b[0m | \u001b[95m 1.001   \u001b[0m | \u001b[95m 0.4386  \u001b[0m |\n",
      " Stopped after 23 iterations with train-auc = 0.942059 val-auc = 0.933851 ( diff = 0.008208 ) train-gini = 0.884118 val-gini = 0.867701\n",
      "| \u001b[0m 9       \u001b[0m | \u001b[0m 0.8677  \u001b[0m | \u001b[0m 0.8533  \u001b[0m | \u001b[0m 9.063   \u001b[0m | \u001b[0m 0.3855  \u001b[0m | \u001b[0m 7.552   \u001b[0m | \u001b[0m 1.218   \u001b[0m | \u001b[0m 17.89   \u001b[0m | \u001b[0m 2.234e+0\u001b[0m | \u001b[0m 99.92   \u001b[0m | \u001b[0m 0.3527  \u001b[0m | \u001b[0m 4.667   \u001b[0m | \u001b[0m 0.7113  \u001b[0m |\n",
      " Stopped after 29 iterations with train-auc = 0.941471 val-auc = 0.933394 ( diff = 0.008077 ) train-gini = 0.882941 val-gini = 0.866787\n",
      "| \u001b[0m 10      \u001b[0m | \u001b[0m 0.8668  \u001b[0m | \u001b[0m 0.5001  \u001b[0m | \u001b[0m 8.709   \u001b[0m | \u001b[0m 0.3533  \u001b[0m | \u001b[0m 9.629   \u001b[0m | \u001b[0m 1.079   \u001b[0m | \u001b[0m 1.536   \u001b[0m | \u001b[0m 2.529e+0\u001b[0m | \u001b[0m 98.81   \u001b[0m | \u001b[0m 8.785   \u001b[0m | \u001b[0m 5.623   \u001b[0m | \u001b[0m 0.5769  \u001b[0m |\n",
      " Stopped after 12 iterations with train-auc = 0.997534 val-auc = 0.910689 ( diff = 0.086845 ) train-gini = 0.995067 val-gini = 0.821377\n",
      "| \u001b[0m 11      \u001b[0m | \u001b[0m 0.8214  \u001b[0m | \u001b[0m 0.649   \u001b[0m | \u001b[0m 8.759   \u001b[0m | \u001b[0m 0.4462  \u001b[0m | \u001b[0m 0.2782  \u001b[0m | \u001b[0m 19.37   \u001b[0m | \u001b[0m 4.052   \u001b[0m | \u001b[0m 2.099e+0\u001b[0m | \u001b[0m 98.95   \u001b[0m | \u001b[0m 9.196   \u001b[0m | \u001b[0m 1.761   \u001b[0m | \u001b[0m 0.9591  \u001b[0m |\n",
      " Stopped after 22 iterations with train-auc = 0.941479 val-auc = 0.935319 ( diff = 0.006160 ) train-gini = 0.882957 val-gini = 0.870637\n",
      "| \u001b[0m 12      \u001b[0m | \u001b[0m 0.8706  \u001b[0m | \u001b[0m 0.4875  \u001b[0m | \u001b[0m 4.345   \u001b[0m | \u001b[0m 0.3209  \u001b[0m | \u001b[0m 8.69    \u001b[0m | \u001b[0m 1.998   \u001b[0m | \u001b[0m 15.99   \u001b[0m | \u001b[0m 1.789e+0\u001b[0m | \u001b[0m 20.18   \u001b[0m | \u001b[0m 5.399   \u001b[0m | \u001b[0m 0.02113 \u001b[0m | \u001b[0m 0.9884  \u001b[0m |\n",
      " Stopped after 47 iterations with train-auc = 0.941574 val-auc = 0.935365 ( diff = 0.006209 ) train-gini = 0.883147 val-gini = 0.870730\n",
      "| \u001b[0m 13      \u001b[0m | \u001b[0m 0.8707  \u001b[0m | \u001b[0m 0.5722  \u001b[0m | \u001b[0m 0.43    \u001b[0m | \u001b[0m 0.2064  \u001b[0m | \u001b[0m 9.45    \u001b[0m | \u001b[0m 1.801   \u001b[0m | \u001b[0m 10.47   \u001b[0m | \u001b[0m 1.295e+0\u001b[0m | \u001b[0m 98.06   \u001b[0m | \u001b[0m 5.601   \u001b[0m | \u001b[0m 2.345   \u001b[0m | \u001b[0m 0.49    \u001b[0m |\n",
      " Stopped after 1000 iterations with train-auc = 0.943393 val-auc = 0.935934 ( diff = 0.007458 ) train-gini = 0.886785 val-gini = 0.871869\n",
      "| \u001b[95m 14      \u001b[0m | \u001b[95m 0.8719  \u001b[0m | \u001b[95m 1.0     \u001b[0m | \u001b[95m 0.001   \u001b[0m | \u001b[95m 0.01    \u001b[0m | \u001b[95m 10.0    \u001b[0m | \u001b[95m 1.0     \u001b[0m | \u001b[95m 6.464e-0\u001b[0m | \u001b[95m 1e+03   \u001b[0m | \u001b[95m 100.0   \u001b[0m | \u001b[95m 10.0    \u001b[0m | \u001b[95m 0.0     \u001b[0m | \u001b[95m 1.0     \u001b[0m |\n",
      " Stopped after 29 iterations with train-auc = 0.941619 val-auc = 0.935106 ( diff = 0.006513 ) train-gini = 0.883238 val-gini = 0.870213\n",
      "| \u001b[0m 15      \u001b[0m | \u001b[0m 0.8702  \u001b[0m | \u001b[0m 0.8252  \u001b[0m | \u001b[0m 0.5547  \u001b[0m | \u001b[0m 0.2553  \u001b[0m | \u001b[0m 8.876   \u001b[0m | \u001b[0m 1.097   \u001b[0m | \u001b[0m 16.0    \u001b[0m | \u001b[0m 2.777e+0\u001b[0m | \u001b[0m 85.75   \u001b[0m | \u001b[0m 9.434   \u001b[0m | \u001b[0m 1.694   \u001b[0m | \u001b[0m 0.6178  \u001b[0m |\n",
      " Stopped after 37 iterations with train-auc = 0.945141 val-auc = 0.935578 ( diff = 0.009563 ) train-gini = 0.890283 val-gini = 0.871156\n",
      "| \u001b[0m 16      \u001b[0m | \u001b[0m 0.8712  \u001b[0m | \u001b[0m 0.4488  \u001b[0m | \u001b[0m 1.655   \u001b[0m | \u001b[0m 0.14    \u001b[0m | \u001b[0m 8.308   \u001b[0m | \u001b[0m 2.252   \u001b[0m | \u001b[0m 19.8    \u001b[0m | \u001b[0m 2.344e+0\u001b[0m | \u001b[0m 25.31   \u001b[0m | \u001b[0m 9.291   \u001b[0m | \u001b[0m 8.077   \u001b[0m | \u001b[0m 0.9861  \u001b[0m |\n",
      " Stopped after 334 iterations with train-auc = 0.941531 val-auc = 0.936026 ( diff = 0.005504 ) train-gini = 0.883061 val-gini = 0.872053\n",
      "| \u001b[95m 17      \u001b[0m | \u001b[95m 0.8721  \u001b[0m | \u001b[95m 0.8195  \u001b[0m | \u001b[95m 2.937   \u001b[0m | \u001b[95m 0.01647 \u001b[0m | \u001b[95m 9.523   \u001b[0m | \u001b[95m 1.016   \u001b[0m | \u001b[95m 2.059   \u001b[0m | \u001b[95m 1.839e+0\u001b[0m | \u001b[95m 98.44   \u001b[0m | \u001b[95m 8.459   \u001b[0m | \u001b[95m 3.631   \u001b[0m | \u001b[95m 0.5605  \u001b[0m |\n",
      " Stopped after 53 iterations with train-auc = 0.942588 val-auc = 0.935708 ( diff = 0.006881 ) train-gini = 0.885177 val-gini = 0.871415\n",
      "| \u001b[0m 18      \u001b[0m | \u001b[0m 0.8714  \u001b[0m | \u001b[0m 0.8851  \u001b[0m | \u001b[0m 0.5204  \u001b[0m | \u001b[0m 0.156   \u001b[0m | \u001b[0m 5.858   \u001b[0m | \u001b[0m 1.197   \u001b[0m | \u001b[0m 0.1918  \u001b[0m | \u001b[0m 1.529e+0\u001b[0m | \u001b[0m 69.66   \u001b[0m | \u001b[0m 6.595   \u001b[0m | \u001b[0m 1.591   \u001b[0m | \u001b[0m 0.7562  \u001b[0m |\n",
      " Stopped after 23 iterations with train-auc = 0.940743 val-auc = 0.934804 ( diff = 0.005939 ) train-gini = 0.881487 val-gini = 0.869609\n",
      "| \u001b[0m 19      \u001b[0m | \u001b[0m 0.8696  \u001b[0m | \u001b[0m 0.6531  \u001b[0m | \u001b[0m 3.221   \u001b[0m | \u001b[0m 0.3004  \u001b[0m | \u001b[0m 0.3462  \u001b[0m | \u001b[0m 1.25    \u001b[0m | \u001b[0m 2.531   \u001b[0m | \u001b[0m 1.932e+0\u001b[0m | \u001b[0m 32.13   \u001b[0m | \u001b[0m 9.477   \u001b[0m | \u001b[0m 0.8811  \u001b[0m | \u001b[0m 0.5542  \u001b[0m |\n",
      " Stopped after 23 iterations with train-auc = 0.941399 val-auc = 0.935264 ( diff = 0.006135 ) train-gini = 0.882799 val-gini = 0.870528\n",
      "| \u001b[0m 20      \u001b[0m | \u001b[0m 0.8705  \u001b[0m | \u001b[0m 0.8943  \u001b[0m | \u001b[0m 1.136   \u001b[0m | \u001b[0m 0.3188  \u001b[0m | \u001b[0m 4.68    \u001b[0m | \u001b[0m 1.362   \u001b[0m | \u001b[0m 18.38   \u001b[0m | \u001b[0m 1.658e+0\u001b[0m | \u001b[0m 97.8    \u001b[0m | \u001b[0m 8.657   \u001b[0m | \u001b[0m 5.877   \u001b[0m | \u001b[0m 0.7538  \u001b[0m |\n",
      " Stopped after 85 iterations with train-auc = 0.943235 val-auc = 0.935386 ( diff = 0.007849 ) train-gini = 0.886470 val-gini = 0.870772\n",
      "| \u001b[0m 21      \u001b[0m | \u001b[0m 0.8708  \u001b[0m | \u001b[0m 0.4178  \u001b[0m | \u001b[0m 0.5483  \u001b[0m | \u001b[0m 0.1527  \u001b[0m | \u001b[0m 7.077   \u001b[0m | \u001b[0m 1.027   \u001b[0m | \u001b[0m 3.328   \u001b[0m | \u001b[0m 1.701e+0\u001b[0m | \u001b[0m 55.33   \u001b[0m | \u001b[0m 2.167   \u001b[0m | \u001b[0m 6.009   \u001b[0m | \u001b[0m 0.5502  \u001b[0m |\n",
      " Stopped after 53 iterations with train-auc = 0.942762 val-auc = 0.935718 ( diff = 0.007044 ) train-gini = 0.885523 val-gini = 0.871435\n",
      "| \u001b[0m 22      \u001b[0m | \u001b[0m 0.8714  \u001b[0m | \u001b[0m 0.6544  \u001b[0m | \u001b[0m 1.205   \u001b[0m | \u001b[0m 0.1786  \u001b[0m | \u001b[0m 6.914   \u001b[0m | \u001b[0m 1.177   \u001b[0m | \u001b[0m 19.41   \u001b[0m | \u001b[0m 2.447e+0\u001b[0m | \u001b[0m 58.61   \u001b[0m | \u001b[0m 8.415   \u001b[0m | \u001b[0m 1.057   \u001b[0m | \u001b[0m 0.8149  \u001b[0m |\n",
      " Stopped after 44 iterations with train-auc = 0.942205 val-auc = 0.935853 ( diff = 0.006353 ) train-gini = 0.884411 val-gini = 0.871705\n",
      "| \u001b[0m 23      \u001b[0m | \u001b[0m 0.8717  \u001b[0m | \u001b[0m 0.9956  \u001b[0m | \u001b[0m 2.946   \u001b[0m | \u001b[0m 0.1633  \u001b[0m | \u001b[0m 8.27    \u001b[0m | \u001b[0m 1.287   \u001b[0m | \u001b[0m 19.21   \u001b[0m | \u001b[0m 2.645e+0\u001b[0m | \u001b[0m 20.13   \u001b[0m | \u001b[0m 7.233   \u001b[0m | \u001b[0m 0.4472  \u001b[0m | \u001b[0m 0.8844  \u001b[0m |\n",
      " Stopped after 36 iterations with train-auc = 0.942575 val-auc = 0.934819 ( diff = 0.007756 ) train-gini = 0.885150 val-gini = 0.869639\n",
      "| \u001b[0m 24      \u001b[0m | \u001b[0m 0.8696  \u001b[0m | \u001b[0m 0.5027  \u001b[0m | \u001b[0m 9.354   \u001b[0m | \u001b[0m 0.2677  \u001b[0m | \u001b[0m 7.694   \u001b[0m | \u001b[0m 1.049   \u001b[0m | \u001b[0m 17.22   \u001b[0m | \u001b[0m 1.993e+0\u001b[0m | \u001b[0m 51.94   \u001b[0m | \u001b[0m 1.93    \u001b[0m | \u001b[0m 0.5268  \u001b[0m | \u001b[0m 0.8616  \u001b[0m |\n",
      " Stopped after 17 iterations with train-auc = 0.940207 val-auc = 0.934664 ( diff = 0.005543 ) train-gini = 0.880415 val-gini = 0.869329\n",
      "| \u001b[0m 25      \u001b[0m | \u001b[0m 0.8693  \u001b[0m | \u001b[0m 0.7628  \u001b[0m | \u001b[0m 9.456   \u001b[0m | \u001b[0m 0.3721  \u001b[0m | \u001b[0m 6.866   \u001b[0m | \u001b[0m 1.117   \u001b[0m | \u001b[0m 18.08   \u001b[0m | \u001b[0m 1.402e+0\u001b[0m | \u001b[0m 29.34   \u001b[0m | \u001b[0m 9.697   \u001b[0m | \u001b[0m 2.534   \u001b[0m | \u001b[0m 0.7996  \u001b[0m |\n",
      " Stopped after 46 iterations with train-auc = 0.940903 val-auc = 0.935633 ( diff = 0.005270 ) train-gini = 0.881806 val-gini = 0.871265\n",
      "| \u001b[0m 26      \u001b[0m | \u001b[0m 0.8713  \u001b[0m | \u001b[0m 0.9604  \u001b[0m | \u001b[0m 0.6902  \u001b[0m | \u001b[0m 0.1231  \u001b[0m | \u001b[0m 0.8306  \u001b[0m | \u001b[0m 1.23    \u001b[0m | \u001b[0m 19.06   \u001b[0m | \u001b[0m 2.67e+03\u001b[0m | \u001b[0m 97.17   \u001b[0m | \u001b[0m 4.551   \u001b[0m | \u001b[0m 9.342   \u001b[0m | \u001b[0m 0.4813  \u001b[0m |\n",
      " Stopped after 51 iterations with train-auc = 0.943238 val-auc = 0.934465 ( diff = 0.008773 ) train-gini = 0.886476 val-gini = 0.868930\n",
      "| \u001b[0m 27      \u001b[0m | \u001b[0m 0.8689  \u001b[0m | \u001b[0m 0.4566  \u001b[0m | \u001b[0m 3.822   \u001b[0m | \u001b[0m 0.2823  \u001b[0m | \u001b[0m 8.553   \u001b[0m | \u001b[0m 1.052   \u001b[0m | \u001b[0m 18.86   \u001b[0m | \u001b[0m 2.641e+0\u001b[0m | \u001b[0m 68.38   \u001b[0m | \u001b[0m 9.996   \u001b[0m | \u001b[0m 4.768   \u001b[0m | \u001b[0m 0.5226  \u001b[0m |\n",
      " Stopped after 132 iterations with train-auc = 0.940194 val-auc = 0.936097 ( diff = 0.004097 ) train-gini = 0.880389 val-gini = 0.872195\n",
      "| \u001b[95m 28      \u001b[0m | \u001b[95m 0.8722  \u001b[0m | \u001b[95m 0.5247  \u001b[0m | \u001b[95m 0.9602  \u001b[0m | \u001b[95m 0.03907 \u001b[0m | \u001b[95m 0.6124  \u001b[0m | \u001b[95m 1.096   \u001b[0m | \u001b[95m 19.92   \u001b[0m | \u001b[95m 2.324e+0\u001b[0m | \u001b[95m 36.97   \u001b[0m | \u001b[95m 0.4898  \u001b[0m | \u001b[95m 1.528   \u001b[0m | \u001b[95m 0.42    \u001b[0m |\n",
      "=============================================================================================================================================================\n"
     ]
    }
   ],
   "source": [
    "\n",
    "\n",
    "xgb_bo = BayesianOptimization(xgb_evaluate, {\n",
    "                                            'n_estimators':(1000,3000),\n",
    "                                            'num_leaves' : (20, 100),\n",
    "                                            'max_depth': (1, 20),\n",
    "                                            'gamma': (0.001, 10.0),\n",
    "                                            'min_child_weight': (0, 20),\n",
    "                                            'max_delta_step': (0, 10),\n",
    "                                            'subsample': (0.4, 1.0),\n",
    "                                            'colsample_bytree' :(0.4, 1.0),\n",
    "                                            'learning_rate' : (0.01, 0.5),\n",
    "                                            'reg_alpha': (0.0, 10),\n",
    "                                            'reg_lambda': (0.0,10)\n",
    "                                             \n",
    "                                            }, random_state = 1993)\n",
    "# Use the expected improvement acquisition function to handle negative numbers\n",
    "# Optimally needs quite a few more initiation points and number of iterations\n",
    "with warnings.catch_warnings():\n",
    "     warnings.filterwarnings('ignore')\n",
    "     xgb_bo.maximize(init_points=3, n_iter=25, acq='ei')"
   ]
  },
  {
   "cell_type": "code",
   "execution_count": 0,
   "metadata": {
    "colab": {
     "base_uri": "https://localhost:8080/",
     "height": 34
    },
    "colab_type": "code",
    "id": "qNimeX3cFFVj",
    "outputId": "6aa63fed-9aa3-4d6e-98af-416f0a622be4"
   },
   "outputs": [
    {
     "data": {
      "text/plain": [
       "(0.9355843333333332, 76)"
      ]
     },
     "execution_count": 22,
     "metadata": {
      "tags": []
     },
     "output_type": "execute_result"
    }
   ],
   "source": [
    "AUCbest, ITERbest"
   ]
  },
  {
   "cell_type": "code",
   "execution_count": 0,
   "metadata": {
    "colab": {
     "base_uri": "https://localhost:8080/",
     "height": 202
    },
    "colab_type": "code",
    "id": "6k4_mKZ6Plys",
    "outputId": "c01a4c07-e328-45a8-b5d2-e9b3c2bd51a4"
   },
   "outputs": [
    {
     "data": {
      "text/plain": [
       "{'colsample_bytree': 0.5246884658540595,\n",
       " 'gamma': 0.9601535611794482,\n",
       " 'learning_rate': 0.039066082460214306,\n",
       " 'max_delta_step': 0.6124301463312987,\n",
       " 'max_depth': 1.0955115772040507,\n",
       " 'min_child_weight': 19.922110062205082,\n",
       " 'n_estimators': 2323.540240695263,\n",
       " 'num_leaves': 36.97092190520989,\n",
       " 'reg_alpha': 0.48975141190259586,\n",
       " 'reg_lambda': 1.5283443574008326,\n",
       " 'subsample': 0.41995227297967597}"
      ]
     },
     "execution_count": 24,
     "metadata": {
      "tags": []
     },
     "output_type": "execute_result"
    }
   ],
   "source": [
    "xgb_bo.max['params']"
   ]
  },
  {
   "cell_type": "code",
   "execution_count": 0,
   "metadata": {
    "colab": {},
    "colab_type": "code",
    "id": "HB8tJAS79rzd"
   },
   "outputs": [],
   "source": [
    "train_data = lgb.Dataset(data=train, label=target)\n",
    "test_data = lgb.Dataset(test)"
   ]
  },
  {
   "cell_type": "code",
   "execution_count": 0,
   "metadata": {
    "colab": {},
    "colab_type": "code",
    "id": "nqXVByMJ2ge7"
   },
   "outputs": [],
   "source": [
    "best_score = -1\n",
    "def lgb_eval(n_estimators,learning_rate, num_leaves, feature_fraction, bagging_fraction, max_depth, lambda_l1, lambda_l2, min_split_gain, min_child_weight, colsample_bytree, min_child_samples,subsample):\n",
    "    params = {\n",
    "        'n_estimators': int(n_estimators), \n",
    "        'learning_rate':learning_rate,\n",
    "        'metric': 'auc',\n",
    "        'objective' : 'binary',\n",
    "        'early_stopping_round':1000,\n",
    "        \"num_leaves\" : int(round(num_leaves)),\n",
    "        'feature_fraction': max(min(feature_fraction, 1), 0),\n",
    "        'bagging_fraction': max(min(bagging_fraction, 1), 0),\n",
    "        'max_depth': int(round(max_depth)),\n",
    "        'lambda_l1': lambda_l1,\n",
    "        'lambda_l2': lambda_l2,\n",
    "        'min_split_gain': min_split_gain,\n",
    "        'min_child_weight': min_child_weight,\n",
    "        'colsample_bytree': colsample_bytree,\n",
    "        'min_child_samples': int(min_child_samples),\n",
    "        'subsample': subsample,\n",
    "        'is_unbalance' :True\n",
    "             }\n",
    "    lgbm = lgb.cv(params, train_data, nfold=10, num_boost_round=1000, seed = 1993, stratified=True, verbose_eval =200)\n",
    "      #     val_score = lgbm['test-auc-mean'].iloc[-1]\n",
    "      #     train_score = lgbm['train-auc-mean'].iloc[-1]\n",
    "    best_score = max(lgbm['auc-mean'])\n",
    "    worst_score = min(lgbm['auc-mean'])\n",
    "    print(' Stopped after %d iterations with best_train-auc = %f worst_train_auc = %f' % ( len(lgbm), best_score, worst_score ))\n",
    "#     if ( val_score > AUCbest ):\n",
    "#         AUCbest = val_score\n",
    "#         ITERbest = len(xgbc)\n",
    "\n",
    "    return best_score\n",
    "    \n",
    "    \n",
    "    # range \n",
    "lgb_bo = BayesianOptimization(lgb_eval, {\n",
    "                                        'n_estimators' :(1000, 3000),\n",
    "                                        'learning_rate':(0.001, 0.5),\n",
    "                                        'num_leaves': (20, 300),\n",
    "                                        'feature_fraction': (0.4, 1.0),\n",
    "                                        'bagging_fraction': (0.4, 1),\n",
    "                                        'max_depth': (1, 15),\n",
    "                                        'lambda_l1': (0, 10),\n",
    "                                        'lambda_l2': (0, 10),\n",
    "                                        'min_split_gain': (0.001, 0.1),\n",
    "                                        'min_child_weight': (5, 50),\n",
    "                                        'colsample_bytree' : (0.4,1.0),\n",
    "                                        'min_child_samples' : (15,100),\n",
    "                                        'subsample' : (0.4,1.0)\n",
    "                                       }, random_state=1993)\n"
   ]
  },
  {
   "cell_type": "code",
   "execution_count": 0,
   "metadata": {
    "colab": {
     "base_uri": "https://localhost:8080/",
     "height": 1000
    },
    "colab_type": "code",
    "id": "MyOSV85Z-Pk5",
    "outputId": "d7739627-8469-479d-961e-9f3f6cdc4316"
   },
   "outputs": [
    {
     "name": "stdout",
     "output_type": "stream",
     "text": [
      "|   iter    |  target   | baggin... | colsam... | featur... | lambda_l1 | lambda_l2 | learni... | max_depth | min_ch... | min_ch... | min_sp... | n_esti... | num_le... | subsample |\n",
      "-------------------------------------------------------------------------------------------------------------------------------------------------------------------------------------\n",
      "[200]\tcv_agg's auc: 0.935158 + 0.0138898\n",
      "[400]\tcv_agg's auc: 0.933715 + 0.0149412\n",
      "[600]\tcv_agg's auc: 0.931985 + 0.0153804\n",
      "[800]\tcv_agg's auc: 0.931431 + 0.0154033\n",
      "[1000]\tcv_agg's auc: 0.931431 + 0.0154033\n",
      "[1200]\tcv_agg's auc: 0.931431 + 0.0154033\n",
      " Stopped after 2 iterations with best_train-auc = 0.935291 worst_train_auc = 0.894815\n",
      "| \u001b[0m 1       \u001b[0m | \u001b[0m 0.9353  \u001b[0m | \u001b[0m 0.4603  \u001b[0m | \u001b[0m 0.5316  \u001b[0m | \u001b[0m 0.9586  \u001b[0m | \u001b[0m 3.314   \u001b[0m | \u001b[0m 2.045   \u001b[0m | \u001b[0m 0.08502 \u001b[0m | \u001b[0m 8.1     \u001b[0m | \u001b[0m 76.69   \u001b[0m | \u001b[0m 30.69   \u001b[0m | \u001b[0m 0.01928 \u001b[0m | \u001b[0m 2.918e+0\u001b[0m | \u001b[0m 176.6   \u001b[0m | \u001b[0m 0.9033  \u001b[0m |\n",
      "[200]\tcv_agg's auc: 0.893666 + 0.0192123\n",
      "[400]\tcv_agg's auc: 0.894237 + 0.0189766\n",
      "[600]\tcv_agg's auc: 0.894257 + 0.0189181\n",
      "[800]\tcv_agg's auc: 0.894257 + 0.0189181\n",
      "[1000]\tcv_agg's auc: 0.894257 + 0.0189181\n",
      "[1200]\tcv_agg's auc: 0.894257 + 0.0189181\n",
      " Stopped after 2 iterations with best_train-auc = 0.894348 worst_train_auc = 0.788993\n",
      "| \u001b[0m 2       \u001b[0m | \u001b[0m 0.8943  \u001b[0m | \u001b[0m 0.7453  \u001b[0m | \u001b[0m 0.7322  \u001b[0m | \u001b[0m 0.4647  \u001b[0m | \u001b[0m 3.064   \u001b[0m | \u001b[0m 3.77    \u001b[0m | \u001b[0m 0.3587  \u001b[0m | \u001b[0m 13.66   \u001b[0m | \u001b[0m 58.9    \u001b[0m | \u001b[0m 29.82   \u001b[0m | \u001b[0m 0.01413 \u001b[0m | \u001b[0m 2.389e+0\u001b[0m | \u001b[0m 273.1   \u001b[0m | \u001b[0m 0.5656  \u001b[0m |\n",
      "[200]\tcv_agg's auc: 0.934991 + 0.0137366\n",
      "[400]\tcv_agg's auc: 0.933683 + 0.0133736\n",
      "[600]\tcv_agg's auc: 0.933683 + 0.0133736\n",
      "[800]\tcv_agg's auc: 0.933683 + 0.0133736\n",
      "[1000]\tcv_agg's auc: 0.933683 + 0.0133736\n",
      " Stopped after 2 iterations with best_train-auc = 0.936217 worst_train_auc = 0.875945\n",
      "| \u001b[95m 3       \u001b[0m | \u001b[95m 0.9362  \u001b[0m | \u001b[95m 0.4033  \u001b[0m | \u001b[95m 0.5631  \u001b[0m | \u001b[95m 0.8467  \u001b[0m | \u001b[95m 5.165   \u001b[0m | \u001b[95m 9.308   \u001b[0m | \u001b[95m 0.09209 \u001b[0m | \u001b[95m 14.18   \u001b[0m | \u001b[95m 74.08   \u001b[0m | \u001b[95m 48.17   \u001b[0m | \u001b[95m 0.09617 \u001b[0m | \u001b[95m 1.906e+0\u001b[0m | \u001b[95m 191.6   \u001b[0m | \u001b[95m 0.4384  \u001b[0m |\n",
      "[200]\tcv_agg's auc: 0.875818 + 0.0213148\n",
      "[400]\tcv_agg's auc: 0.875143 + 0.02365\n",
      "[600]\tcv_agg's auc: 0.874332 + 0.0248541\n",
      "[800]\tcv_agg's auc: 0.874339 + 0.024841\n",
      "[1000]\tcv_agg's auc: 0.874339 + 0.024841\n",
      "[1200]\tcv_agg's auc: 0.874339 + 0.024841\n",
      " Stopped after 2 iterations with best_train-auc = 0.876285 worst_train_auc = 0.582860\n",
      "| \u001b[0m 4       \u001b[0m | \u001b[0m 0.8763  \u001b[0m | \u001b[0m 0.5962  \u001b[0m | \u001b[0m 0.6999  \u001b[0m | \u001b[0m 0.6156  \u001b[0m | \u001b[0m 3.383   \u001b[0m | \u001b[0m 3.658   \u001b[0m | \u001b[0m 0.1802  \u001b[0m | \u001b[0m 7.081   \u001b[0m | \u001b[0m 60.71   \u001b[0m | \u001b[0m 9.282   \u001b[0m | \u001b[0m 0.08595 \u001b[0m | \u001b[0m 1.458e+0\u001b[0m | \u001b[0m 101.7   \u001b[0m | \u001b[0m 0.7166  \u001b[0m |\n",
      "[200]\tcv_agg's auc: 0.87882 + 0.0258208\n",
      "[400]\tcv_agg's auc: 0.881227 + 0.0247263\n",
      "[600]\tcv_agg's auc: 0.879802 + 0.0244242\n",
      "[800]\tcv_agg's auc: 0.879413 + 0.0245925\n",
      "[1000]\tcv_agg's auc: 0.879147 + 0.0247694\n",
      "[1200]\tcv_agg's auc: 0.879196 + 0.0247391\n",
      " Stopped after 2 iterations with best_train-auc = 0.881698 worst_train_auc = 0.496193\n",
      "| \u001b[0m 5       \u001b[0m | \u001b[0m 0.8817  \u001b[0m | \u001b[0m 0.4742  \u001b[0m | \u001b[0m 0.4078  \u001b[0m | \u001b[0m 0.5728  \u001b[0m | \u001b[0m 6.545   \u001b[0m | \u001b[0m 7.807   \u001b[0m | \u001b[0m 0.2425  \u001b[0m | \u001b[0m 7.071   \u001b[0m | \u001b[0m 78.46   \u001b[0m | \u001b[0m 24.36   \u001b[0m | \u001b[0m 0.08622 \u001b[0m | \u001b[0m 2.63e+03\u001b[0m | \u001b[0m 233.9   \u001b[0m | \u001b[0m 0.5377  \u001b[0m |\n",
      "[200]\tcv_agg's auc: 0.91524 + 0.0156596\n",
      "[400]\tcv_agg's auc: 0.924115 + 0.013318\n",
      "[600]\tcv_agg's auc: 0.928163 + 0.0134394\n",
      "[800]\tcv_agg's auc: 0.929623 + 0.0136842\n",
      "[1000]\tcv_agg's auc: 0.93057 + 0.0139335\n",
      "[1200]\tcv_agg's auc: 0.930789 + 0.0141369\n",
      "[1400]\tcv_agg's auc: 0.931203 + 0.014288\n",
      "[1600]\tcv_agg's auc: 0.931555 + 0.0143128\n",
      "[1800]\tcv_agg's auc: 0.931814 + 0.0143059\n",
      "[2000]\tcv_agg's auc: 0.932004 + 0.0143033\n",
      "[2200]\tcv_agg's auc: 0.932006 + 0.0143343\n",
      "[2400]\tcv_agg's auc: 0.931984 + 0.0146294\n",
      "[2600]\tcv_agg's auc: 0.932165 + 0.01451\n",
      "[2800]\tcv_agg's auc: 0.932061 + 0.0143522\n",
      " Stopped after 2 iterations with best_train-auc = 0.932216 worst_train_auc = 0.766096\n",
      "| \u001b[0m 6       \u001b[0m | \u001b[0m 0.9322  \u001b[0m | \u001b[0m 0.5975  \u001b[0m | \u001b[0m 0.6526  \u001b[0m | \u001b[0m 0.6093  \u001b[0m | \u001b[0m 9.261   \u001b[0m | \u001b[0m 8.185   \u001b[0m | \u001b[0m 0.2126  \u001b[0m | \u001b[0m 2.406   \u001b[0m | \u001b[0m 32.44   \u001b[0m | \u001b[0m 47.4    \u001b[0m | \u001b[0m 0.05419 \u001b[0m | \u001b[0m 2.998e+0\u001b[0m | \u001b[0m 20.3    \u001b[0m | \u001b[0m 0.4195  \u001b[0m |\n",
      "[200]\tcv_agg's auc: 0.935537 + 0.0112286\n",
      "[400]\tcv_agg's auc: 0.936325 + 0.0121125\n",
      "[600]\tcv_agg's auc: 0.935542 + 0.0126826\n",
      "[800]\tcv_agg's auc: 0.935343 + 0.0128157\n",
      "[1000]\tcv_agg's auc: 0.935343 + 0.0128157\n",
      "[1200]\tcv_agg's auc: 0.935343 + 0.0128157\n",
      " Stopped after 2 iterations with best_train-auc = 0.936418 worst_train_auc = 0.869390\n",
      "| \u001b[95m 7       \u001b[0m | \u001b[95m 0.9364  \u001b[0m | \u001b[95m 0.4957  \u001b[0m | \u001b[95m 0.4696  \u001b[0m | \u001b[95m 0.4901  \u001b[0m | \u001b[95m 6.676   \u001b[0m | \u001b[95m 1.842   \u001b[0m | \u001b[95m 0.06503 \u001b[0m | \u001b[95m 6.853   \u001b[0m | \u001b[95m 22.07   \u001b[0m | \u001b[95m 46.67   \u001b[0m | \u001b[95m 0.07186 \u001b[0m | \u001b[95m 2.997e+0\u001b[0m | \u001b[95m 296.1   \u001b[0m | \u001b[95m 0.9348  \u001b[0m |\n",
      "[200]\tcv_agg's auc: 0.930996 + 0.0140317\n",
      "[400]\tcv_agg's auc: 0.935178 + 0.0134875\n",
      "[600]\tcv_agg's auc: 0.936873 + 0.0129385\n",
      "[800]\tcv_agg's auc: 0.937839 + 0.0125831\n",
      "[1000]\tcv_agg's auc: 0.938726 + 0.0125647\n",
      "[1200]\tcv_agg's auc: 0.939209 + 0.0126435\n",
      "[1400]\tcv_agg's auc: 0.939647 + 0.0126317\n",
      "[1600]\tcv_agg's auc: 0.940151 + 0.0125709\n",
      " Stopped after 2 iterations with best_train-auc = 0.940351 worst_train_auc = 0.859576\n",
      "| \u001b[95m 8       \u001b[0m | \u001b[95m 0.9404  \u001b[0m | \u001b[95m 0.7494  \u001b[0m | \u001b[95m 0.7679  \u001b[0m | \u001b[95m 0.5021  \u001b[0m | \u001b[95m 9.13    \u001b[0m | \u001b[95m 9.24    \u001b[0m | \u001b[95m 0.002102\u001b[0m | \u001b[95m 14.78   \u001b[0m | \u001b[95m 96.86   \u001b[0m | \u001b[95m 48.65   \u001b[0m | \u001b[95m 0.07527 \u001b[0m | \u001b[95m 1.71e+03\u001b[0m | \u001b[95m 299.8   \u001b[0m | \u001b[95m 0.5099  \u001b[0m |\n",
      "[200]\tcv_agg's auc: 0.927514 + 0.0187183\n",
      "[400]\tcv_agg's auc: 0.929535 + 0.0194968\n",
      "[600]\tcv_agg's auc: 0.928574 + 0.0197631\n",
      "[800]\tcv_agg's auc: 0.928459 + 0.0197938\n",
      "[1000]\tcv_agg's auc: 0.928459 + 0.0197938\n",
      "[1200]\tcv_agg's auc: 0.928459 + 0.0197938\n",
      "[1400]\tcv_agg's auc: 0.928459 + 0.0197938\n",
      " Stopped after 2 iterations with best_train-auc = 0.929586 worst_train_auc = 0.889336\n",
      "| \u001b[0m 9       \u001b[0m | \u001b[0m 0.9296  \u001b[0m | \u001b[0m 0.5636  \u001b[0m | \u001b[0m 0.5105  \u001b[0m | \u001b[0m 0.9153  \u001b[0m | \u001b[0m 4.771   \u001b[0m | \u001b[0m 1.683   \u001b[0m | \u001b[0m 0.1054  \u001b[0m | \u001b[0m 5.092   \u001b[0m | \u001b[0m 99.76   \u001b[0m | \u001b[0m 18.93   \u001b[0m | \u001b[0m 0.09671 \u001b[0m | \u001b[0m 2.998e+0\u001b[0m | \u001b[0m 196.5   \u001b[0m | \u001b[0m 0.7593  \u001b[0m |\n",
      "[200]\tcv_agg's auc: 0.903258 + 0.0177795\n",
      "[400]\tcv_agg's auc: 0.904255 + 0.0181016\n",
      "[600]\tcv_agg's auc: 0.905408 + 0.017888\n",
      "[800]\tcv_agg's auc: 0.905629 + 0.0177912\n",
      "[1000]\tcv_agg's auc: 0.905607 + 0.0178155\n",
      " Stopped after 2 iterations with best_train-auc = 0.905763 worst_train_auc = 0.763263\n",
      "| \u001b[0m 10      \u001b[0m | \u001b[0m 0.9058  \u001b[0m | \u001b[0m 0.4284  \u001b[0m | \u001b[0m 0.999   \u001b[0m | \u001b[0m 0.4041  \u001b[0m | \u001b[0m 0.000159\u001b[0m | \u001b[0m 0.00185 \u001b[0m | \u001b[0m 0.4981  \u001b[0m | \u001b[0m 15.0    \u001b[0m | \u001b[0m 15.0    \u001b[0m | \u001b[0m 50.0    \u001b[0m | \u001b[0m 0.001   \u001b[0m | \u001b[0m 1e+03   \u001b[0m | \u001b[0m 299.3   \u001b[0m | \u001b[0m 0.9992  \u001b[0m |\n",
      "[200]\tcv_agg's auc: 0.887571 + 0.0210857\n",
      "[400]\tcv_agg's auc: 0.888682 + 0.0216458\n",
      "[600]\tcv_agg's auc: 0.888714 + 0.0216239\n",
      "[800]\tcv_agg's auc: 0.88872 + 0.0216124\n",
      "[1000]\tcv_agg's auc: 0.888737 + 0.0216337\n",
      "[1200]\tcv_agg's auc: 0.888751 + 0.0216493\n",
      "[1400]\tcv_agg's auc: 0.88876 + 0.0216662\n",
      "[1600]\tcv_agg's auc: 0.88877 + 0.0216812\n",
      "[1800]\tcv_agg's auc: 0.888776 + 0.0216908\n",
      " Stopped after 2 iterations with best_train-auc = 0.888776 worst_train_auc = 0.416394\n",
      "| \u001b[0m 11      \u001b[0m | \u001b[0m 0.8888  \u001b[0m | \u001b[0m 0.8696  \u001b[0m | \u001b[0m 0.8291  \u001b[0m | \u001b[0m 0.5958  \u001b[0m | \u001b[0m 6.452   \u001b[0m | \u001b[0m 3.218   \u001b[0m | \u001b[0m 0.2949  \u001b[0m | \u001b[0m 12.78   \u001b[0m | \u001b[0m 15.52   \u001b[0m | \u001b[0m 47.75   \u001b[0m | \u001b[0m 0.05379 \u001b[0m | \u001b[0m 1.865e+0\u001b[0m | \u001b[0m 288.1   \u001b[0m | \u001b[0m 0.6719  \u001b[0m |\n",
      "[200]\tcv_agg's auc: 0.929985 + 0.0150283\n",
      "[400]\tcv_agg's auc: 0.931779 + 0.0144364\n",
      "[600]\tcv_agg's auc: 0.932252 + 0.0143658\n",
      "[800]\tcv_agg's auc: 0.932981 + 0.0142666\n",
      "[1000]\tcv_agg's auc: 0.93343 + 0.0140779\n",
      " Stopped after 2 iterations with best_train-auc = 0.933439 worst_train_auc = 0.872696\n",
      "| \u001b[0m 12      \u001b[0m | \u001b[0m 0.9334  \u001b[0m | \u001b[0m 0.4     \u001b[0m | \u001b[0m 0.4     \u001b[0m | \u001b[0m 0.4     \u001b[0m | \u001b[0m 8.081   \u001b[0m | \u001b[0m 5.638e-0\u001b[0m | \u001b[0m 0.001002\u001b[0m | \u001b[0m 15.0    \u001b[0m | \u001b[0m 100.0   \u001b[0m | \u001b[0m 50.0    \u001b[0m | \u001b[0m 0.001   \u001b[0m | \u001b[0m 1e+03   \u001b[0m | \u001b[0m 20.0    \u001b[0m | \u001b[0m 0.9635  \u001b[0m |\n",
      "[200]\tcv_agg's auc: 0.879386 + 0.0488627\n",
      "[400]\tcv_agg's auc: 0.882967 + 0.0501645\n",
      "[600]\tcv_agg's auc: 0.883709 + 0.0505881\n",
      "[800]\tcv_agg's auc: 0.883862 + 0.0506832\n",
      "[1000]\tcv_agg's auc: 0.883886 + 0.0506979\n",
      " Stopped after 2 iterations with best_train-auc = 0.883887 worst_train_auc = 0.312965\n",
      "| \u001b[0m 13      \u001b[0m | \u001b[0m 0.8839  \u001b[0m | \u001b[0m 0.9032  \u001b[0m | \u001b[0m 0.5286  \u001b[0m | \u001b[0m 0.498   \u001b[0m | \u001b[0m 6.419   \u001b[0m | \u001b[0m 0.09194 \u001b[0m | \u001b[0m 0.4899  \u001b[0m | \u001b[0m 14.2    \u001b[0m | \u001b[0m 99.17   \u001b[0m | \u001b[0m 46.59   \u001b[0m | \u001b[0m 0.064   \u001b[0m | \u001b[0m 1.024e+0\u001b[0m | \u001b[0m 287.5   \u001b[0m | \u001b[0m 0.4219  \u001b[0m |\n",
      "[200]\tcv_agg's auc: 0.934644 + 0.0116854\n",
      "[400]\tcv_agg's auc: 0.933628 + 0.0127713\n",
      "[600]\tcv_agg's auc: 0.933159 + 0.0131006\n",
      "[800]\tcv_agg's auc: 0.933159 + 0.0131006\n",
      "[1000]\tcv_agg's auc: 0.933159 + 0.0131006\n",
      "[1200]\tcv_agg's auc: 0.933159 + 0.0131006\n",
      " Stopped after 2 iterations with best_train-auc = 0.934995 worst_train_auc = 0.872146\n",
      "| \u001b[0m 14      \u001b[0m | \u001b[0m 0.935   \u001b[0m | \u001b[0m 0.9936  \u001b[0m | \u001b[0m 0.7294  \u001b[0m | \u001b[0m 0.4469  \u001b[0m | \u001b[0m 4.635   \u001b[0m | \u001b[0m 0.7572  \u001b[0m | \u001b[0m 0.1004  \u001b[0m | \u001b[0m 10.43   \u001b[0m | \u001b[0m 96.53   \u001b[0m | \u001b[0m 46.95   \u001b[0m | \u001b[0m 0.08417 \u001b[0m | \u001b[0m 2.073e+0\u001b[0m | \u001b[0m 30.32   \u001b[0m | \u001b[0m 0.6737  \u001b[0m |\n",
      "[200]\tcv_agg's auc: 0.905292 + 0.0232066\n",
      "[400]\tcv_agg's auc: 0.906769 + 0.0228137\n",
      "[600]\tcv_agg's auc: 0.90713 + 0.0229359\n",
      "[800]\tcv_agg's auc: 0.907248 + 0.0225939\n",
      "[1000]\tcv_agg's auc: 0.907352 + 0.0225202\n",
      "[1200]\tcv_agg's auc: 0.907325 + 0.0224645\n",
      "[1400]\tcv_agg's auc: 0.907277 + 0.0223858\n",
      "[1600]\tcv_agg's auc: 0.907215 + 0.0222701\n",
      "[1800]\tcv_agg's auc: 0.907167 + 0.0221818\n",
      " Stopped after 2 iterations with best_train-auc = 0.907371 worst_train_auc = 0.556431\n",
      "| \u001b[0m 15      \u001b[0m | \u001b[0m 0.9074  \u001b[0m | \u001b[0m 0.4583  \u001b[0m | \u001b[0m 0.5903  \u001b[0m | \u001b[0m 0.4954  \u001b[0m | \u001b[0m 1.729   \u001b[0m | \u001b[0m 7.12    \u001b[0m | \u001b[0m 0.2923  \u001b[0m | \u001b[0m 13.58   \u001b[0m | \u001b[0m 99.98   \u001b[0m | \u001b[0m 49.76   \u001b[0m | \u001b[0m 0.004512\u001b[0m | \u001b[0m 2.938e+0\u001b[0m | \u001b[0m 147.1   \u001b[0m | \u001b[0m 0.9997  \u001b[0m |\n",
      "[200]\tcv_agg's auc: 0.927713 + 0.0178978\n",
      "[400]\tcv_agg's auc: 0.927931 + 0.0181462\n",
      "[600]\tcv_agg's auc: 0.92729 + 0.0179666\n",
      "[800]\tcv_agg's auc: 0.92731 + 0.0164804\n",
      "[1000]\tcv_agg's auc: 0.926554 + 0.0166595\n",
      "[1200]\tcv_agg's auc: 0.926336 + 0.0163771\n",
      "[1400]\tcv_agg's auc: 0.925536 + 0.015754\n",
      " Stopped after 2 iterations with best_train-auc = 0.927976 worst_train_auc = 0.891211\n",
      "| \u001b[0m 16      \u001b[0m | \u001b[0m 0.928   \u001b[0m | \u001b[0m 0.4016  \u001b[0m | \u001b[0m 1.0     \u001b[0m | \u001b[0m 1.0     \u001b[0m | \u001b[0m 0.0     \u001b[0m | \u001b[0m 0.0     \u001b[0m | \u001b[0m 0.001   \u001b[0m | \u001b[0m 11.93   \u001b[0m | \u001b[0m 15.0    \u001b[0m | \u001b[0m 5.0     \u001b[0m | \u001b[0m 0.001975\u001b[0m | \u001b[0m 2.974e+0\u001b[0m | \u001b[0m 150.0   \u001b[0m | \u001b[0m 1.0     \u001b[0m |\n",
      "[200]\tcv_agg's auc: 0.932169 + 0.0141514\n",
      "[400]\tcv_agg's auc: 0.933667 + 0.0147113\n",
      "[600]\tcv_agg's auc: 0.934153 + 0.0154251\n",
      "[800]\tcv_agg's auc: 0.93375 + 0.0157058\n",
      "[1000]\tcv_agg's auc: 0.933237 + 0.01559\n",
      "[1200]\tcv_agg's auc: 0.933168 + 0.0153735\n",
      "[1400]\tcv_agg's auc: 0.933168 + 0.0153735\n",
      "[1600]\tcv_agg's auc: 0.933168 + 0.0153735\n",
      " Stopped after 2 iterations with best_train-auc = 0.934208 worst_train_auc = 0.890635\n",
      "| \u001b[0m 17      \u001b[0m | \u001b[0m 0.9342  \u001b[0m | \u001b[0m 0.9815  \u001b[0m | \u001b[0m 0.8029  \u001b[0m | \u001b[0m 0.8041  \u001b[0m | \u001b[0m 9.248   \u001b[0m | \u001b[0m 2.533   \u001b[0m | \u001b[0m 0.05443 \u001b[0m | \u001b[0m 4.924   \u001b[0m | \u001b[0m 99.39   \u001b[0m | \u001b[0m 16.29   \u001b[0m | \u001b[0m 0.05388 \u001b[0m | \u001b[0m 2.052e+0\u001b[0m | \u001b[0m 287.4   \u001b[0m | \u001b[0m 0.6776  \u001b[0m |\n",
      "[200]\tcv_agg's auc: 0.784642 + 0.0795994\n",
      "[400]\tcv_agg's auc: 0.792782 + 0.0834147\n",
      "[600]\tcv_agg's auc: 0.798381 + 0.0863142\n",
      "[800]\tcv_agg's auc: 0.802269 + 0.0881943\n",
      "[1000]\tcv_agg's auc: 0.805473 + 0.0900699\n",
      "[1200]\tcv_agg's auc: 0.80721 + 0.0910962\n",
      "[1400]\tcv_agg's auc: 0.808695 + 0.091937\n",
      "[1600]\tcv_agg's auc: 0.809481 + 0.0924188\n",
      " Stopped after 2 iterations with best_train-auc = 0.810321 worst_train_auc = 0.249815\n",
      "| \u001b[0m 18      \u001b[0m | \u001b[0m 0.8103  \u001b[0m | \u001b[0m 0.7887  \u001b[0m | \u001b[0m 0.6935  \u001b[0m | \u001b[0m 0.653   \u001b[0m | \u001b[0m 8.094   \u001b[0m | \u001b[0m 8.733   \u001b[0m | \u001b[0m 0.4772  \u001b[0m | \u001b[0m 1.279   \u001b[0m | \u001b[0m 99.19   \u001b[0m | \u001b[0m 48.07   \u001b[0m | \u001b[0m 0.04619 \u001b[0m | \u001b[0m 1.798e+0\u001b[0m | \u001b[0m 26.94   \u001b[0m | \u001b[0m 0.5291  \u001b[0m |\n",
      "[200]\tcv_agg's auc: 0.92325 + 0.0171893\n",
      "[400]\tcv_agg's auc: 0.92636 + 0.0154157\n",
      "[600]\tcv_agg's auc: 0.927608 + 0.0148892\n",
      "[800]\tcv_agg's auc: 0.927918 + 0.0145493\n",
      "[1000]\tcv_agg's auc: 0.928073 + 0.0145435\n",
      " Stopped after 2 iterations with best_train-auc = 0.928073 worst_train_auc = 0.872853\n",
      "| \u001b[0m 19      \u001b[0m | \u001b[0m 0.9281  \u001b[0m | \u001b[0m 0.4     \u001b[0m | \u001b[0m 0.4     \u001b[0m | \u001b[0m 1.0     \u001b[0m | \u001b[0m 0.0     \u001b[0m | \u001b[0m 10.0    \u001b[0m | \u001b[0m 0.001   \u001b[0m | \u001b[0m 15.0    \u001b[0m | \u001b[0m 15.0    \u001b[0m | \u001b[0m 5.0     \u001b[0m | \u001b[0m 0.001   \u001b[0m | \u001b[0m 1e+03   \u001b[0m | \u001b[0m 20.0    \u001b[0m | \u001b[0m 1.0     \u001b[0m |\n",
      "[200]\tcv_agg's auc: 0.931559 + 0.0141141\n",
      "[400]\tcv_agg's auc: 0.933411 + 0.0134477\n",
      "[600]\tcv_agg's auc: 0.933946 + 0.0127675\n",
      "[800]\tcv_agg's auc: 0.934465 + 0.012593\n",
      "[1000]\tcv_agg's auc: 0.934923 + 0.0124769\n",
      "[1200]\tcv_agg's auc: 0.935253 + 0.0125622\n",
      "[1400]\tcv_agg's auc: 0.93559 + 0.0126829\n",
      "[1600]\tcv_agg's auc: 0.936045 + 0.0127566\n",
      "[1800]\tcv_agg's auc: 0.936556 + 0.01285\n",
      "[2000]\tcv_agg's auc: 0.936904 + 0.0129029\n",
      " Stopped after 2 iterations with best_train-auc = 0.937203 worst_train_auc = 0.881527\n",
      "| \u001b[0m 20      \u001b[0m | \u001b[0m 0.9372  \u001b[0m | \u001b[0m 0.9867  \u001b[0m | \u001b[0m 0.4894  \u001b[0m | \u001b[0m 0.7417  \u001b[0m | \u001b[0m 7.202   \u001b[0m | \u001b[0m 4.918   \u001b[0m | \u001b[0m 0.00213 \u001b[0m | \u001b[0m 8.638   \u001b[0m | \u001b[0m 98.46   \u001b[0m | \u001b[0m 48.03   \u001b[0m | \u001b[0m 0.03071 \u001b[0m | \u001b[0m 2.149e+0\u001b[0m | \u001b[0m 158.2   \u001b[0m | \u001b[0m 0.8014  \u001b[0m |\n",
      "[200]\tcv_agg's auc: 0.76058 + 0.097798\n",
      "[400]\tcv_agg's auc: 0.763383 + 0.101119\n",
      "[600]\tcv_agg's auc: 0.765104 + 0.103211\n",
      "[800]\tcv_agg's auc: 0.766136 + 0.104453\n",
      "[1000]\tcv_agg's auc: 0.766657 + 0.104923\n",
      " Stopped after 2 iterations with best_train-auc = 0.858321 worst_train_auc = 0.858321\n",
      "| \u001b[0m 21      \u001b[0m | \u001b[0m 0.8583  \u001b[0m | \u001b[0m 0.6547  \u001b[0m | \u001b[0m 0.5647  \u001b[0m | \u001b[0m 0.617   \u001b[0m | \u001b[0m 3.993   \u001b[0m | \u001b[0m 0.01823 \u001b[0m | \u001b[0m 0.476   \u001b[0m | \u001b[0m 3.195   \u001b[0m | \u001b[0m 22.56   \u001b[0m | \u001b[0m 7.042   \u001b[0m | \u001b[0m 0.09619 \u001b[0m | \u001b[0m 2.414e+0\u001b[0m | \u001b[0m 22.66   \u001b[0m | \u001b[0m 0.8239  \u001b[0m |\n",
      "[200]\tcv_agg's auc: 0.819577 + 0.0381448\n",
      "[400]\tcv_agg's auc: 0.826662 + 0.0402105\n",
      "[600]\tcv_agg's auc: 0.831113 + 0.036601\n",
      "[800]\tcv_agg's auc: 0.83154 + 0.0368726\n",
      "[1000]\tcv_agg's auc: 0.832819 + 0.0369104\n",
      " Stopped after 2 iterations with best_train-auc = 0.875554 worst_train_auc = 0.875554\n",
      "| \u001b[0m 22      \u001b[0m | \u001b[0m 0.8756  \u001b[0m | \u001b[0m 0.8538  \u001b[0m | \u001b[0m 0.9744  \u001b[0m | \u001b[0m 0.6986  \u001b[0m | \u001b[0m 5.61    \u001b[0m | \u001b[0m 0.06187 \u001b[0m | \u001b[0m 0.1819  \u001b[0m | \u001b[0m 2.805   \u001b[0m | \u001b[0m 84.99   \u001b[0m | \u001b[0m 5.34    \u001b[0m | \u001b[0m 0.03186 \u001b[0m | \u001b[0m 2.851e+0\u001b[0m | \u001b[0m 298.3   \u001b[0m | \u001b[0m 0.4382  \u001b[0m |\n",
      "[200]\tcv_agg's auc: 0.936335 + 0.0144601\n",
      "[400]\tcv_agg's auc: 0.939057 + 0.0136882\n",
      "[600]\tcv_agg's auc: 0.939692 + 0.0135062\n",
      "[800]\tcv_agg's auc: 0.940453 + 0.0132684\n",
      "[1000]\tcv_agg's auc: 0.940833 + 0.013085\n",
      "[1200]\tcv_agg's auc: 0.941104 + 0.0129501\n",
      " Stopped after 2 iterations with best_train-auc = 0.941306 worst_train_auc = 0.872787\n",
      "| \u001b[95m 23      \u001b[0m | \u001b[95m 0.9413  \u001b[0m | \u001b[95m 0.4     \u001b[0m | \u001b[95m 1.0     \u001b[0m | \u001b[95m 0.4     \u001b[0m | \u001b[95m 0.0     \u001b[0m | \u001b[95m 0.0     \u001b[0m | \u001b[95m 0.001   \u001b[0m | \u001b[95m 15.0    \u001b[0m | \u001b[95m 100.0   \u001b[0m | \u001b[95m 50.0    \u001b[0m | \u001b[95m 0.001   \u001b[0m | \u001b[95m 1.381e+0\u001b[0m | \u001b[95m 300.0   \u001b[0m | \u001b[95m 1.0     \u001b[0m |\n",
      "[200]\tcv_agg's auc: 0.924349 + 0.0157658\n",
      "[400]\tcv_agg's auc: 0.928705 + 0.0153235\n",
      "[600]\tcv_agg's auc: 0.93062 + 0.0154938\n",
      "[800]\tcv_agg's auc: 0.932197 + 0.0152589\n",
      "[1000]\tcv_agg's auc: 0.933014 + 0.0155523\n",
      "[1200]\tcv_agg's auc: 0.933464 + 0.0156111\n",
      "[1400]\tcv_agg's auc: 0.934148 + 0.0156013\n",
      "[1600]\tcv_agg's auc: 0.934429 + 0.0152414\n",
      "[1800]\tcv_agg's auc: 0.93459 + 0.0152896\n",
      "[2000]\tcv_agg's auc: 0.934557 + 0.0153254\n",
      "[2200]\tcv_agg's auc: 0.934816 + 0.0154511\n",
      "[2400]\tcv_agg's auc: 0.935011 + 0.01525\n",
      "[2600]\tcv_agg's auc: 0.935096 + 0.0152329\n",
      "[2800]\tcv_agg's auc: 0.935178 + 0.0151887\n",
      " Stopped after 2 iterations with best_train-auc = 0.935292 worst_train_auc = 0.836929\n",
      "| \u001b[0m 24      \u001b[0m | \u001b[0m 0.9353  \u001b[0m | \u001b[0m 0.9056  \u001b[0m | \u001b[0m 0.4735  \u001b[0m | \u001b[0m 0.6555  \u001b[0m | \u001b[0m 4.814   \u001b[0m | \u001b[0m 0.5305  \u001b[0m | \u001b[0m 0.1661  \u001b[0m | \u001b[0m 1.535   \u001b[0m | \u001b[0m 19.62   \u001b[0m | \u001b[0m 49.57   \u001b[0m | \u001b[0m 0.02933 \u001b[0m | \u001b[0m 2.932e+0\u001b[0m | \u001b[0m 169.3   \u001b[0m | \u001b[0m 0.7539  \u001b[0m |\n",
      "[200]\tcv_agg's auc: 0.788425 + 0.0450958\n",
      "[400]\tcv_agg's auc: 0.815477 + 0.0399497\n",
      "[600]\tcv_agg's auc: 0.832405 + 0.0399363\n",
      "[800]\tcv_agg's auc: 0.840258 + 0.0378709\n",
      "[1000]\tcv_agg's auc: 0.848517 + 0.0318928\n",
      "[1200]\tcv_agg's auc: 0.856709 + 0.0302816\n",
      "[1400]\tcv_agg's auc: 0.859722 + 0.0300075\n",
      "[1600]\tcv_agg's auc: 0.862206 + 0.0294331\n",
      "[1800]\tcv_agg's auc: 0.864038 + 0.0282913\n",
      "[2000]\tcv_agg's auc: 0.865265 + 0.0269637\n",
      "[2200]\tcv_agg's auc: 0.866648 + 0.0262046\n",
      "[2400]\tcv_agg's auc: 0.868146 + 0.0264841\n",
      "[2600]\tcv_agg's auc: 0.869693 + 0.0269402\n",
      "[2800]\tcv_agg's auc: 0.870903 + 0.0270472\n",
      " Stopped after 2 iterations with best_train-auc = 0.871189 worst_train_auc = 0.360495\n",
      "| \u001b[0m 25      \u001b[0m | \u001b[0m 0.8712  \u001b[0m | \u001b[0m 0.5258  \u001b[0m | \u001b[0m 0.8971  \u001b[0m | \u001b[0m 0.4828  \u001b[0m | \u001b[0m 7.191   \u001b[0m | \u001b[0m 0.4258  \u001b[0m | \u001b[0m 0.2934  \u001b[0m | \u001b[0m 1.143   \u001b[0m | \u001b[0m 93.5    \u001b[0m | \u001b[0m 14.38   \u001b[0m | \u001b[0m 0.03924 \u001b[0m | \u001b[0m 2.844e+0\u001b[0m | \u001b[0m 36.65   \u001b[0m | \u001b[0m 0.4774  \u001b[0m |\n",
      "[200]\tcv_agg's auc: 0.818138 + 0.033588\n",
      "[400]\tcv_agg's auc: 0.810563 + 0.0320264\n",
      "[600]\tcv_agg's auc: 0.808558 + 0.0308154\n",
      "[800]\tcv_agg's auc: 0.807838 + 0.0299719\n",
      "[1000]\tcv_agg's auc: 0.807703 + 0.0297573\n",
      " Stopped after 2 iterations with best_train-auc = 0.880373 worst_train_auc = 0.880373\n",
      "| \u001b[0m 26      \u001b[0m | \u001b[0m 0.8804  \u001b[0m | \u001b[0m 0.8374  \u001b[0m | \u001b[0m 0.9664  \u001b[0m | \u001b[0m 0.839   \u001b[0m | \u001b[0m 3.392   \u001b[0m | \u001b[0m 5.812   \u001b[0m | \u001b[0m 0.4615  \u001b[0m | \u001b[0m 13.75   \u001b[0m | \u001b[0m 98.32   \u001b[0m | \u001b[0m 5.492   \u001b[0m | \u001b[0m 0.04682 \u001b[0m | \u001b[0m 2.002e+0\u001b[0m | \u001b[0m 151.4   \u001b[0m | \u001b[0m 0.5035  \u001b[0m |\n",
      "[200]\tcv_agg's auc: 0.933501 + 0.0146126\n",
      "[400]\tcv_agg's auc: 0.935969 + 0.0137699\n",
      "[600]\tcv_agg's auc: 0.936883 + 0.0134217\n",
      "[800]\tcv_agg's auc: 0.937736 + 0.0132009\n",
      "[1000]\tcv_agg's auc: 0.938392 + 0.0130668\n",
      "[1200]\tcv_agg's auc: 0.938854 + 0.0129409\n",
      "[1400]\tcv_agg's auc: 0.9393 + 0.0127168\n",
      "[1600]\tcv_agg's auc: 0.939739 + 0.0125742\n",
      "[1800]\tcv_agg's auc: 0.940136 + 0.0124011\n",
      " Stopped after 2 iterations with best_train-auc = 0.940284 worst_train_auc = 0.872406\n",
      "| \u001b[0m 27      \u001b[0m | \u001b[0m 0.9403  \u001b[0m | \u001b[0m 0.4     \u001b[0m | \u001b[0m 0.7217  \u001b[0m | \u001b[0m 0.4     \u001b[0m | \u001b[0m 10.0    \u001b[0m | \u001b[0m 0.0     \u001b[0m | \u001b[0m 0.001   \u001b[0m | \u001b[0m 15.0    \u001b[0m | \u001b[0m 100.0   \u001b[0m | \u001b[0m 50.0    \u001b[0m | \u001b[0m 0.001   \u001b[0m | \u001b[0m 1.936e+0\u001b[0m | \u001b[0m 300.0   \u001b[0m | \u001b[0m 1.0     \u001b[0m |\n",
      "[200]\tcv_agg's auc: 0.717062 + 0.0304636\n",
      "[400]\tcv_agg's auc: 0.717062 + 0.0304636\n",
      "[600]\tcv_agg's auc: 0.717062 + 0.0304636\n",
      "[800]\tcv_agg's auc: 0.717062 + 0.0304636\n",
      "[1000]\tcv_agg's auc: 0.717062 + 0.0304636\n",
      " Stopped after 2 iterations with best_train-auc = 0.727392 worst_train_auc = 0.727392\n",
      "| \u001b[0m 28      \u001b[0m | \u001b[0m 0.7274  \u001b[0m | \u001b[0m 0.4     \u001b[0m | \u001b[0m 0.4     \u001b[0m | \u001b[0m 0.4     \u001b[0m | \u001b[0m 10.0    \u001b[0m | \u001b[0m 10.0    \u001b[0m | \u001b[0m 0.5     \u001b[0m | \u001b[0m 1.0     \u001b[0m | \u001b[0m 15.0    \u001b[0m | \u001b[0m 50.0    \u001b[0m | \u001b[0m 0.001   \u001b[0m | \u001b[0m 1.192e+0\u001b[0m | \u001b[0m 109.5   \u001b[0m | \u001b[0m 0.4     \u001b[0m |\n",
      "[200]\tcv_agg's auc: 0.817928 + 0.0463841\n",
      "[400]\tcv_agg's auc: 0.814598 + 0.0498847\n",
      "[600]\tcv_agg's auc: 0.813793 + 0.0493313\n",
      "[800]\tcv_agg's auc: 0.813265 + 0.0484447\n",
      "[1000]\tcv_agg's auc: 0.812412 + 0.0481606\n",
      " Stopped after 2 iterations with best_train-auc = 0.877804 worst_train_auc = 0.877804\n",
      "| \u001b[0m 29      \u001b[0m | \u001b[0m 0.8778  \u001b[0m | \u001b[0m 1.0     \u001b[0m | \u001b[0m 0.4     \u001b[0m | \u001b[0m 1.0     \u001b[0m | \u001b[0m 0.0     \u001b[0m | \u001b[0m 10.0    \u001b[0m | \u001b[0m 0.5     \u001b[0m | \u001b[0m 15.0    \u001b[0m | \u001b[0m 100.0   \u001b[0m | \u001b[0m 5.0     \u001b[0m | \u001b[0m 0.1     \u001b[0m | \u001b[0m 1.508e+0\u001b[0m | \u001b[0m 300.0   \u001b[0m | \u001b[0m 0.9353  \u001b[0m |\n",
      "[200]\tcv_agg's auc: 0.936332 + 0.0144467\n",
      "[400]\tcv_agg's auc: 0.939041 + 0.0136989\n",
      "[600]\tcv_agg's auc: 0.939696 + 0.0134978\n",
      "[800]\tcv_agg's auc: 0.940439 + 0.0132757\n",
      "[1000]\tcv_agg's auc: 0.940812 + 0.0131141\n",
      "[1200]\tcv_agg's auc: 0.941069 + 0.0129824\n",
      "[1400]\tcv_agg's auc: 0.941319 + 0.0128706\n",
      " Stopped after 2 iterations with best_train-auc = 0.941562 worst_train_auc = 0.872787\n",
      "| \u001b[95m 30      \u001b[0m | \u001b[95m 0.9416  \u001b[0m | \u001b[95m 0.4     \u001b[0m | \u001b[95m 0.4     \u001b[0m | \u001b[95m 0.4     \u001b[0m | \u001b[95m 0.0     \u001b[0m | \u001b[95m 0.0     \u001b[0m | \u001b[95m 0.001   \u001b[0m | \u001b[95m 15.0    \u001b[0m | \u001b[95m 100.0   \u001b[0m | \u001b[95m 50.0    \u001b[0m | \u001b[95m 0.001064\u001b[0m | \u001b[95m 1.52e+03\u001b[0m | \u001b[95m 196.0   \u001b[0m | \u001b[95m 0.4     \u001b[0m |\n",
      "=====================================================================================================================================================================================\n"
     ]
    },
    {
     "ename": "AttributeError",
     "evalue": "ignored",
     "output_type": "error",
     "traceback": [
      "\u001b[0;31m---------------------------------------------------------------------------\u001b[0m",
      "\u001b[0;31mAttributeError\u001b[0m                            Traceback (most recent call last)",
      "\u001b[0;32m<ipython-input-17-32e719db0f47>\u001b[0m in \u001b[0;36m<module>\u001b[0;34m()\u001b[0m\n\u001b[1;32m      4\u001b[0m      \u001b[0mlgb_bo\u001b[0m\u001b[0;34m.\u001b[0m\u001b[0mmaximize\u001b[0m\u001b[0;34m(\u001b[0m\u001b[0minit_points\u001b[0m\u001b[0;34m=\u001b[0m\u001b[0;36m5\u001b[0m\u001b[0;34m,\u001b[0m \u001b[0mn_iter\u001b[0m\u001b[0;34m=\u001b[0m\u001b[0;36m25\u001b[0m\u001b[0;34m,\u001b[0m \u001b[0macq\u001b[0m\u001b[0;34m=\u001b[0m\u001b[0;34m'ei'\u001b[0m\u001b[0;34m)\u001b[0m\u001b[0;34m\u001b[0m\u001b[0;34m\u001b[0m\u001b[0m\n\u001b[1;32m      5\u001b[0m \u001b[0;34m\u001b[0m\u001b[0m\n\u001b[0;32m----> 6\u001b[0;31m \u001b[0mlgb_bo\u001b[0m\u001b[0;34m.\u001b[0m\u001b[0mpoints_to_csv\u001b[0m\u001b[0;34m(\u001b[0m\u001b[0;34m\"bayes_opt_result.csv\"\u001b[0m\u001b[0;34m)\u001b[0m\u001b[0;34m\u001b[0m\u001b[0;34m\u001b[0m\u001b[0m\n\u001b[0m",
      "\u001b[0;31mAttributeError\u001b[0m: 'BayesianOptimization' object has no attribute 'points_to_csv'"
     ]
    }
   ],
   "source": [
    "import warnings\n",
    "with warnings.catch_warnings():\n",
    "     warnings.filterwarnings('ignore')\n",
    "     lgb_bo.maximize(init_points=5, n_iter=25, acq='ei')\n",
    "\n",
    "#lgb_bo.points_to_csv(\"bayes_opt_result.csv\")"
   ]
  },
  {
   "cell_type": "code",
   "execution_count": 0,
   "metadata": {
    "colab": {
     "base_uri": "https://localhost:8080/",
     "height": 235
    },
    "colab_type": "code",
    "id": "Gl4-TfSZBxTz",
    "outputId": "3c86535e-2508-4892-85a5-222079b3363f"
   },
   "outputs": [
    {
     "data": {
      "text/plain": [
       "{'bagging_fraction': 0.4,\n",
       " 'colsample_bytree': 0.4,\n",
       " 'feature_fraction': 0.4,\n",
       " 'lambda_l1': 0.0,\n",
       " 'lambda_l2': 0.0,\n",
       " 'learning_rate': 0.001,\n",
       " 'max_depth': 15.0,\n",
       " 'min_child_samples': 100.0,\n",
       " 'min_child_weight': 50.0,\n",
       " 'min_split_gain': 0.0010640577871197205,\n",
       " 'n_estimators': 1519.699307429034,\n",
       " 'num_leaves': 196.0237632077263,\n",
       " 'subsample': 0.4}"
      ]
     },
     "execution_count": 23,
     "metadata": {
      "tags": []
     },
     "output_type": "execute_result"
    }
   ],
   "source": [
    "lgb_bo.res[29]['params']"
   ]
  },
  {
   "cell_type": "code",
   "execution_count": 0,
   "metadata": {
    "colab": {},
    "colab_type": "code",
    "id": "4C8z3_V3eDq5"
   },
   "outputs": [],
   "source": [
    "cb_train = cb.Pool(data=train,\n",
    "                  label=target)"
   ]
  },
  {
   "cell_type": "code",
   "execution_count": 0,
   "metadata": {
    "colab": {},
    "colab_type": "code",
    "id": "sn5GFhfzMgyv"
   },
   "outputs": [],
   "source": [
    "best_score = -1\n",
    "def cb_eval(bagging_temperature, max_depth, reg_lambda, colsample_bylevel):\n",
    "    params = {\n",
    "        'n_estimators': 150, \n",
    "        'learning_rate':0.05,\n",
    "        'eval_metric' : 'AUC',\n",
    "        'early_stopping_rounds':1000,\n",
    "        'bagging_temperature': max(min(bagging_temperature, 1), 0),\n",
    "        'max_depth': int(round(max_depth)),\n",
    "        'reg_lambda': reg_lambda,\n",
    "        'colsample_bylevel': colsample_bylevel\n",
    "             }\n",
    "    cv_rslt = cb.cv(cb_train, params, nfold=5, seed = 1993, stratified=True, verbose_eval =200)\n",
    "    val_score = np.max(cv_rslt['test-AUC-mean'])\n",
    "    #train_score = cv_rslt['train-AUC-mean'].iloc[-1]\n",
    "    print(' Stopped after %d iterations with test-auc = %f ' % ( len(cv_rslt), val_score))\n",
    "\n",
    "    return val_score\n",
    "    \n",
    "    \n",
    "    # range \n",
    "cb_bo = BayesianOptimization(cb_eval, {\n",
    "                                        'bagging_temperature': (0.2, 0.9),\n",
    "                                        'max_depth': (5, 12),\n",
    "                                        'reg_lambda': (0.1, 1),\n",
    "                                        'colsample_bylevel': (0.3,0.9)\n",
    "                                       }, random_state=1993)\n"
   ]
  },
  {
   "cell_type": "code",
   "execution_count": 0,
   "metadata": {
    "colab": {
     "base_uri": "https://localhost:8080/",
     "height": 1000
    },
    "colab_type": "code",
    "id": "K-zMA3u_kIRQ",
    "outputId": "085f6982-3d78-4899-db77-d2cb214defa6"
   },
   "outputs": [
    {
     "name": "stdout",
     "output_type": "stream",
     "text": [
      "|   iter    |  target   | baggin... | colsam... | max_depth | reg_la... |\n",
      "-------------------------------------------------------------------------\n",
      "0:\ttest: 0.8585937\tbest: 0.8585937 (0)\ttotal: 5.06s\tremaining: 12m 34s\n",
      "149:\ttest: 0.9210755\tbest: 0.9232898 (83)\ttotal: 9m 31s\tremaining: 0us\n",
      " Stopped after 150 iterations with test-auc = 0.923290 \n",
      "| \u001b[0m 1       \u001b[0m | \u001b[0m 0.9233  \u001b[0m | \u001b[0m 0.2703  \u001b[0m | \u001b[0m 0.4316  \u001b[0m | \u001b[0m 11.52   \u001b[0m | \u001b[0m 0.3982  \u001b[0m |\n",
      "0:\ttest: 0.8487526\tbest: 0.8487526 (0)\ttotal: 1.1s\tremaining: 2m 44s\n",
      "149:\ttest: 0.9214574\tbest: 0.9216033 (106)\ttotal: 2m 14s\tremaining: 0us\n",
      " Stopped after 150 iterations with test-auc = 0.921603 \n",
      "| \u001b[0m 2       \u001b[0m | \u001b[0m 0.9216  \u001b[0m | \u001b[0m 0.3432  \u001b[0m | \u001b[0m 0.401   \u001b[0m | \u001b[0m 8.55    \u001b[0m | \u001b[0m 0.7532  \u001b[0m |\n",
      "0:\ttest: 0.8268059\tbest: 0.8268059 (0)\ttotal: 4.95s\tremaining: 12m 17s\n",
      "149:\ttest: 0.9194515\tbest: 0.9244863 (100)\ttotal: 9m 49s\tremaining: 0us\n",
      " Stopped after 150 iterations with test-auc = 0.924486 \n",
      "| \u001b[95m 3       \u001b[0m | \u001b[95m 0.9245  \u001b[0m | \u001b[95m 0.5996  \u001b[0m | \u001b[95m 0.4108  \u001b[0m | \u001b[95m 11.71   \u001b[0m | \u001b[95m 0.6033  \u001b[0m |\n",
      "0:\ttest: 0.8529176\tbest: 0.8529176 (0)\ttotal: 1.56s\tremaining: 3m 52s\n",
      "149:\ttest: 0.9202843\tbest: 0.9207582 (101)\ttotal: 3m 4s\tremaining: 0us\n",
      " Stopped after 150 iterations with test-auc = 0.920758 \n",
      "| \u001b[0m 4       \u001b[0m | \u001b[0m 0.9208  \u001b[0m | \u001b[0m 0.7871  \u001b[0m | \u001b[0m 0.6453  \u001b[0m | \u001b[0m 8.876   \u001b[0m | \u001b[0m 0.197   \u001b[0m |\n",
      "0:\ttest: 0.8588139\tbest: 0.8588139 (0)\ttotal: 2.1s\tremaining: 5m 13s\n",
      "149:\ttest: 0.9188336\tbest: 0.9219293 (89)\ttotal: 4m 4s\tremaining: 0us\n",
      " Stopped after 150 iterations with test-auc = 0.921929 \n",
      "| \u001b[0m 5       \u001b[0m | \u001b[0m 0.9219  \u001b[0m | \u001b[0m 0.4145  \u001b[0m | \u001b[0m 0.5262  \u001b[0m | \u001b[0m 10.02   \u001b[0m | \u001b[0m 0.9138  \u001b[0m |\n",
      "0:\ttest: 0.8384498\tbest: 0.8384498 (0)\ttotal: 4.62s\tremaining: 11m 28s\n",
      "149:\ttest: 0.9230940\tbest: 0.9249536 (106)\ttotal: 7m 58s\tremaining: 0us\n",
      " Stopped after 150 iterations with test-auc = 0.924954 \n",
      "| \u001b[95m 6       \u001b[0m | \u001b[95m 0.925   \u001b[0m | \u001b[95m 0.8039  \u001b[0m | \u001b[95m 0.3025  \u001b[0m | \u001b[95m 11.99   \u001b[0m | \u001b[95m 0.9973  \u001b[0m |\n",
      "0:\ttest: 0.8547423\tbest: 0.8547423 (0)\ttotal: 9.12s\tremaining: 22m 38s\n",
      "149:\ttest: 0.9234723\tbest: 0.9236027 (146)\ttotal: 17m 8s\tremaining: 0us\n",
      " Stopped after 150 iterations with test-auc = 0.923603 \n",
      "| \u001b[0m 7       \u001b[0m | \u001b[0m 0.9236  \u001b[0m | \u001b[0m 0.8771  \u001b[0m | \u001b[0m 0.8659  \u001b[0m | \u001b[0m 11.99   \u001b[0m | \u001b[0m 0.9287  \u001b[0m |\n",
      "0:\ttest: 0.8534542\tbest: 0.8534542 (0)\ttotal: 4.92s\tremaining: 12m 12s\n",
      "149:\ttest: 0.9232191\tbest: 0.9245708 (124)\ttotal: 7m 41s\tremaining: 0us\n",
      " Stopped after 150 iterations with test-auc = 0.924571 \n",
      "| \u001b[0m 8       \u001b[0m | \u001b[0m 0.9246  \u001b[0m | \u001b[0m 0.7663  \u001b[0m | \u001b[0m 0.3089  \u001b[0m | \u001b[0m 11.99   \u001b[0m | \u001b[0m 0.1032  \u001b[0m |\n",
      "0:\ttest: 0.8505575\tbest: 0.8505575 (0)\ttotal: 3.09s\tremaining: 7m 39s\n",
      "149:\ttest: 0.9241934\tbest: 0.9250547 (91)\ttotal: 7m 58s\tremaining: 0us\n",
      " Stopped after 150 iterations with test-auc = 0.925055 \n",
      "| \u001b[95m 9       \u001b[0m | \u001b[95m 0.9251  \u001b[0m | \u001b[95m 0.3115  \u001b[0m | \u001b[95m 0.3395  \u001b[0m | \u001b[95m 12.0    \u001b[0m | \u001b[95m 0.131   \u001b[0m |\n",
      "0:\ttest: 0.8461014\tbest: 0.8461014 (0)\ttotal: 3.31s\tremaining: 8m 13s\n",
      "149:\ttest: 0.9194271\tbest: 0.9235493 (113)\ttotal: 7m 35s\tremaining: 0us\n",
      " Stopped after 150 iterations with test-auc = 0.923549 \n",
      "| \u001b[0m 10      \u001b[0m | \u001b[0m 0.9235  \u001b[0m | \u001b[0m 0.876   \u001b[0m | \u001b[0m 0.3002  \u001b[0m | \u001b[0m 12.0    \u001b[0m | \u001b[0m 0.1073  \u001b[0m |\n",
      "0:\ttest: 0.8341645\tbest: 0.8341645 (0)\ttotal: 4.31s\tremaining: 10m 41s\n",
      "149:\ttest: 0.9217587\tbest: 0.9225720 (135)\ttotal: 8m 36s\tremaining: 0us\n",
      " Stopped after 150 iterations with test-auc = 0.922572 \n",
      "| \u001b[0m 11      \u001b[0m | \u001b[0m 0.9226  \u001b[0m | \u001b[0m 0.2045  \u001b[0m | \u001b[0m 0.3801  \u001b[0m | \u001b[0m 11.95   \u001b[0m | \u001b[0m 0.997   \u001b[0m |\n",
      "0:\ttest: 0.8833471\tbest: 0.8833471 (0)\ttotal: 9.25s\tremaining: 22m 58s\n",
      "149:\ttest: 0.9216449\tbest: 0.9231635 (87)\ttotal: 16m 40s\tremaining: 0us\n",
      " Stopped after 150 iterations with test-auc = 0.923163 \n",
      "| \u001b[0m 12      \u001b[0m | \u001b[0m 0.9232  \u001b[0m | \u001b[0m 0.2049  \u001b[0m | \u001b[0m 0.8636  \u001b[0m | \u001b[0m 11.99   \u001b[0m | \u001b[0m 0.1441  \u001b[0m |\n",
      "0:\ttest: 0.8469944\tbest: 0.8469944 (0)\ttotal: 9.67s\tremaining: 24m\n",
      "149:\ttest: 0.9228792\tbest: 0.9228792 (149)\ttotal: 17m 29s\tremaining: 0us\n",
      " Stopped after 150 iterations with test-auc = 0.922879 \n",
      "| \u001b[0m 13      \u001b[0m | \u001b[0m 0.9229  \u001b[0m | \u001b[0m 0.8947  \u001b[0m | \u001b[0m 0.8866  \u001b[0m | \u001b[0m 11.99   \u001b[0m | \u001b[0m 0.1378  \u001b[0m |\n",
      "0:\ttest: 0.8336338\tbest: 0.8336338 (0)\ttotal: 3.23s\tremaining: 8m 1s\n",
      "149:\ttest: 0.9208885\tbest: 0.9231644 (115)\ttotal: 8m 15s\tremaining: 0us\n",
      " Stopped after 150 iterations with test-auc = 0.923164 \n",
      "| \u001b[0m 14      \u001b[0m | \u001b[0m 0.9232  \u001b[0m | \u001b[0m 0.8186  \u001b[0m | \u001b[0m 0.3425  \u001b[0m | \u001b[0m 12.0    \u001b[0m | \u001b[0m 0.9631  \u001b[0m |\n",
      "0:\ttest: 0.8523520\tbest: 0.8523520 (0)\ttotal: 3.35s\tremaining: 8m 19s\n",
      "149:\ttest: 0.9252923\tbest: 0.9268013 (115)\ttotal: 7m 46s\tremaining: 0us\n",
      " Stopped after 150 iterations with test-auc = 0.926801 \n",
      "| \u001b[95m 15      \u001b[0m | \u001b[95m 0.9268  \u001b[0m | \u001b[95m 0.2644  \u001b[0m | \u001b[95m 0.336   \u001b[0m | \u001b[95m 11.99   \u001b[0m | \u001b[95m 0.1049  \u001b[0m |\n",
      "=========================================================================\n"
     ]
    }
   ],
   "source": [
    "import warnings\n",
    "with warnings.catch_warnings():\n",
    "     warnings.filterwarnings('ignore')\n",
    "     cb_bo.maximize(init_points=5, n_iter=10, acq='ei')\n",
    "\n",
    "#lgb_bo.points_to_csv(\"bayes_opt_result.csv\")"
   ]
  },
  {
   "cell_type": "code",
   "execution_count": 4,
   "metadata": {
    "colab": {
     "base_uri": "https://localhost:8080/",
     "height": 571
    },
    "colab_type": "code",
    "id": "zQ-0oK3IW7lo",
    "outputId": "7b811311-b2fb-4089-a8e8-57560d17c22c"
   },
   "outputs": [
    {
     "name": "stdout",
     "output_type": "stream",
     "text": [
      "|   iter    |  target   | learni... | n_esti... |\n",
      "-------------------------------------------------\n"
     ]
    },
    {
     "ename": "NameError",
     "evalue": "name 'train' is not defined",
     "output_type": "error",
     "traceback": [
      "\u001b[1;31m---------------------------------------------------------------------------\u001b[0m",
      "\u001b[1;31mKeyError\u001b[0m                                  Traceback (most recent call last)",
      "\u001b[1;32m~\\AppData\\Local\\Continuum\\anaconda3\\lib\\site-packages\\bayes_opt\\target_space.py\u001b[0m in \u001b[0;36mprobe\u001b[1;34m(self, params)\u001b[0m\n\u001b[0;32m    190\u001b[0m         \u001b[1;32mtry\u001b[0m\u001b[1;33m:\u001b[0m\u001b[1;33m\u001b[0m\u001b[0m\n\u001b[1;32m--> 191\u001b[1;33m             \u001b[0mtarget\u001b[0m \u001b[1;33m=\u001b[0m \u001b[0mself\u001b[0m\u001b[1;33m.\u001b[0m\u001b[0m_cache\u001b[0m\u001b[1;33m[\u001b[0m\u001b[0m_hashable\u001b[0m\u001b[1;33m(\u001b[0m\u001b[0mx\u001b[0m\u001b[1;33m)\u001b[0m\u001b[1;33m]\u001b[0m\u001b[1;33m\u001b[0m\u001b[0m\n\u001b[0m\u001b[0;32m    192\u001b[0m         \u001b[1;32mexcept\u001b[0m \u001b[0mKeyError\u001b[0m\u001b[1;33m:\u001b[0m\u001b[1;33m\u001b[0m\u001b[0m\n",
      "\u001b[1;31mKeyError\u001b[0m: (1.0132182062479367, 407.175900607226)",
      "\nDuring handling of the above exception, another exception occurred:\n",
      "\u001b[1;31mNameError\u001b[0m                                 Traceback (most recent call last)",
      "\u001b[1;32m<ipython-input-4-8066a7993d71>\u001b[0m in \u001b[0;36m<module>\u001b[1;34m()\u001b[0m\n\u001b[0;32m     35\u001b[0m \u001b[1;32mwith\u001b[0m \u001b[0mwarnings\u001b[0m\u001b[1;33m.\u001b[0m\u001b[0mcatch_warnings\u001b[0m\u001b[1;33m(\u001b[0m\u001b[1;33m)\u001b[0m\u001b[1;33m:\u001b[0m\u001b[1;33m\u001b[0m\u001b[0m\n\u001b[0;32m     36\u001b[0m      \u001b[0mwarnings\u001b[0m\u001b[1;33m.\u001b[0m\u001b[0mfilterwarnings\u001b[0m\u001b[1;33m(\u001b[0m\u001b[1;34m'ignore'\u001b[0m\u001b[1;33m)\u001b[0m\u001b[1;33m\u001b[0m\u001b[0m\n\u001b[1;32m---> 37\u001b[1;33m      \u001b[0mrf_bo\u001b[0m\u001b[1;33m.\u001b[0m\u001b[0mmaximize\u001b[0m\u001b[1;33m(\u001b[0m\u001b[0minit_points\u001b[0m\u001b[1;33m=\u001b[0m\u001b[0minit_round\u001b[0m\u001b[1;33m,\u001b[0m \u001b[0mn_iter\u001b[0m\u001b[1;33m=\u001b[0m\u001b[0mopt_round\u001b[0m\u001b[1;33m)\u001b[0m\u001b[1;33m\u001b[0m\u001b[0m\n\u001b[0m\u001b[0;32m     38\u001b[0m \u001b[1;33m\u001b[0m\u001b[0m\n\u001b[0;32m     39\u001b[0m \u001b[1;33m\u001b[0m\u001b[0m\n",
      "\u001b[1;32m~\\AppData\\Local\\Continuum\\anaconda3\\lib\\site-packages\\bayes_opt\\bayesian_optimization.py\u001b[0m in \u001b[0;36mmaximize\u001b[1;34m(self, init_points, n_iter, acq, kappa, xi, **gp_params)\u001b[0m\n\u001b[0;32m    172\u001b[0m                 \u001b[0miteration\u001b[0m \u001b[1;33m+=\u001b[0m \u001b[1;36m1\u001b[0m\u001b[1;33m\u001b[0m\u001b[0m\n\u001b[0;32m    173\u001b[0m \u001b[1;33m\u001b[0m\u001b[0m\n\u001b[1;32m--> 174\u001b[1;33m             \u001b[0mself\u001b[0m\u001b[1;33m.\u001b[0m\u001b[0mprobe\u001b[0m\u001b[1;33m(\u001b[0m\u001b[0mx_probe\u001b[0m\u001b[1;33m,\u001b[0m \u001b[0mlazy\u001b[0m\u001b[1;33m=\u001b[0m\u001b[1;32mFalse\u001b[0m\u001b[1;33m)\u001b[0m\u001b[1;33m\u001b[0m\u001b[0m\n\u001b[0m\u001b[0;32m    175\u001b[0m \u001b[1;33m\u001b[0m\u001b[0m\n\u001b[0;32m    176\u001b[0m         \u001b[0mself\u001b[0m\u001b[1;33m.\u001b[0m\u001b[0mdispatch\u001b[0m\u001b[1;33m(\u001b[0m\u001b[0mEvents\u001b[0m\u001b[1;33m.\u001b[0m\u001b[0mOPTMIZATION_END\u001b[0m\u001b[1;33m)\u001b[0m\u001b[1;33m\u001b[0m\u001b[0m\n",
      "\u001b[1;32m~\\AppData\\Local\\Continuum\\anaconda3\\lib\\site-packages\\bayes_opt\\bayesian_optimization.py\u001b[0m in \u001b[0;36mprobe\u001b[1;34m(self, params, lazy)\u001b[0m\n\u001b[0;32m    110\u001b[0m             \u001b[0mself\u001b[0m\u001b[1;33m.\u001b[0m\u001b[0m_queue\u001b[0m\u001b[1;33m.\u001b[0m\u001b[0madd\u001b[0m\u001b[1;33m(\u001b[0m\u001b[0mparams\u001b[0m\u001b[1;33m)\u001b[0m\u001b[1;33m\u001b[0m\u001b[0m\n\u001b[0;32m    111\u001b[0m         \u001b[1;32melse\u001b[0m\u001b[1;33m:\u001b[0m\u001b[1;33m\u001b[0m\u001b[0m\n\u001b[1;32m--> 112\u001b[1;33m             \u001b[0mself\u001b[0m\u001b[1;33m.\u001b[0m\u001b[0m_space\u001b[0m\u001b[1;33m.\u001b[0m\u001b[0mprobe\u001b[0m\u001b[1;33m(\u001b[0m\u001b[0mparams\u001b[0m\u001b[1;33m)\u001b[0m\u001b[1;33m\u001b[0m\u001b[0m\n\u001b[0m\u001b[0;32m    113\u001b[0m             \u001b[0mself\u001b[0m\u001b[1;33m.\u001b[0m\u001b[0mdispatch\u001b[0m\u001b[1;33m(\u001b[0m\u001b[0mEvents\u001b[0m\u001b[1;33m.\u001b[0m\u001b[0mOPTMIZATION_STEP\u001b[0m\u001b[1;33m)\u001b[0m\u001b[1;33m\u001b[0m\u001b[0m\n\u001b[0;32m    114\u001b[0m \u001b[1;33m\u001b[0m\u001b[0m\n",
      "\u001b[1;32m~\\AppData\\Local\\Continuum\\anaconda3\\lib\\site-packages\\bayes_opt\\target_space.py\u001b[0m in \u001b[0;36mprobe\u001b[1;34m(self, params)\u001b[0m\n\u001b[0;32m    192\u001b[0m         \u001b[1;32mexcept\u001b[0m \u001b[0mKeyError\u001b[0m\u001b[1;33m:\u001b[0m\u001b[1;33m\u001b[0m\u001b[0m\n\u001b[0;32m    193\u001b[0m             \u001b[0mparams\u001b[0m \u001b[1;33m=\u001b[0m \u001b[0mdict\u001b[0m\u001b[1;33m(\u001b[0m\u001b[0mzip\u001b[0m\u001b[1;33m(\u001b[0m\u001b[0mself\u001b[0m\u001b[1;33m.\u001b[0m\u001b[0m_keys\u001b[0m\u001b[1;33m,\u001b[0m \u001b[0mx\u001b[0m\u001b[1;33m)\u001b[0m\u001b[1;33m)\u001b[0m\u001b[1;33m\u001b[0m\u001b[0m\n\u001b[1;32m--> 194\u001b[1;33m             \u001b[0mtarget\u001b[0m \u001b[1;33m=\u001b[0m \u001b[0mself\u001b[0m\u001b[1;33m.\u001b[0m\u001b[0mtarget_func\u001b[0m\u001b[1;33m(\u001b[0m\u001b[1;33m**\u001b[0m\u001b[0mparams\u001b[0m\u001b[1;33m)\u001b[0m\u001b[1;33m\u001b[0m\u001b[0m\n\u001b[0m\u001b[0;32m    195\u001b[0m             \u001b[0mself\u001b[0m\u001b[1;33m.\u001b[0m\u001b[0mregister\u001b[0m\u001b[1;33m(\u001b[0m\u001b[0mx\u001b[0m\u001b[1;33m,\u001b[0m \u001b[0mtarget\u001b[0m\u001b[1;33m)\u001b[0m\u001b[1;33m\u001b[0m\u001b[0m\n\u001b[0;32m    196\u001b[0m         \u001b[1;32mreturn\u001b[0m \u001b[0mtarget\u001b[0m\u001b[1;33m\u001b[0m\u001b[0m\n",
      "\u001b[1;32m<ipython-input-4-8066a7993d71>\u001b[0m in \u001b[0;36mrf_eval\u001b[1;34m(n_estimators, learning_rate)\u001b[0m\n\u001b[0;32m     12\u001b[0m     \u001b[0mfold\u001b[0m\u001b[1;33m=\u001b[0m\u001b[0mStratifiedKFold\u001b[0m\u001b[1;33m(\u001b[0m\u001b[0mn_splits\u001b[0m\u001b[1;33m=\u001b[0m\u001b[1;36m10\u001b[0m\u001b[1;33m,\u001b[0m\u001b[0mshuffle\u001b[0m\u001b[1;33m=\u001b[0m\u001b[1;32mTrue\u001b[0m\u001b[1;33m,\u001b[0m\u001b[0mrandom_state\u001b[0m\u001b[1;33m=\u001b[0m\u001b[1;36m1993\u001b[0m\u001b[1;33m)\u001b[0m\u001b[1;33m\u001b[0m\u001b[0m\n\u001b[0;32m     13\u001b[0m     \u001b[0mi\u001b[0m\u001b[1;33m=\u001b[0m\u001b[1;36m1\u001b[0m\u001b[1;33m\u001b[0m\u001b[0m\n\u001b[1;32m---> 14\u001b[1;33m     \u001b[1;32mfor\u001b[0m \u001b[0mtrain_index\u001b[0m\u001b[1;33m,\u001b[0m \u001b[0mtest_index\u001b[0m \u001b[1;32min\u001b[0m \u001b[0mfold\u001b[0m\u001b[1;33m.\u001b[0m\u001b[0msplit\u001b[0m\u001b[1;33m(\u001b[0m\u001b[0mtrain\u001b[0m\u001b[1;33m,\u001b[0m\u001b[0mtarget\u001b[0m\u001b[1;33m)\u001b[0m\u001b[1;33m:\u001b[0m\u001b[1;33m\u001b[0m\u001b[0m\n\u001b[0m\u001b[0;32m     15\u001b[0m         \u001b[0mx_train\u001b[0m\u001b[1;33m,\u001b[0m \u001b[0mx_test\u001b[0m \u001b[1;33m=\u001b[0m \u001b[0mtrain\u001b[0m\u001b[1;33m.\u001b[0m\u001b[0miloc\u001b[0m\u001b[1;33m[\u001b[0m\u001b[0mtrain_index\u001b[0m\u001b[1;33m]\u001b[0m\u001b[1;33m,\u001b[0m \u001b[0mtrain\u001b[0m\u001b[1;33m.\u001b[0m\u001b[0miloc\u001b[0m\u001b[1;33m[\u001b[0m\u001b[0mtest_index\u001b[0m\u001b[1;33m]\u001b[0m\u001b[1;33m\u001b[0m\u001b[0m\n\u001b[0;32m     16\u001b[0m         \u001b[0my_train\u001b[0m\u001b[1;33m,\u001b[0m \u001b[0my_test\u001b[0m \u001b[1;33m=\u001b[0m \u001b[0mtarget\u001b[0m\u001b[1;33m[\u001b[0m\u001b[0mtrain_index\u001b[0m\u001b[1;33m]\u001b[0m\u001b[1;33m,\u001b[0m \u001b[0mtarget\u001b[0m\u001b[1;33m[\u001b[0m\u001b[0mtest_index\u001b[0m\u001b[1;33m]\u001b[0m\u001b[1;33m\u001b[0m\u001b[0m\n",
      "\u001b[1;31mNameError\u001b[0m: name 'train' is not defined"
     ]
    }
   ],
   "source": [
    "def rf_eval(n_estimators,learning_rate):\n",
    "    params = {\n",
    "          'n_estimators': int(n_estimators),\n",
    "          'learning_rate' : learning_rate,\n",
    "    }\n",
    "        \n",
    "#     y_pred_test_lgb=[]\n",
    "#     y_pred_trainCV_lgb = np.zeros(train.shape[0])\n",
    "#     y_pred_train_lgb = []\n",
    "    err_rf = []\n",
    "    from sklearn.model_selection import KFold,StratifiedKFold\n",
    "    fold=StratifiedKFold(n_splits=10,shuffle=True,random_state=1993)\n",
    "    i=1\n",
    "    for train_index, test_index in fold.split(train,target):\n",
    "        x_train, x_test = train.iloc[train_index], train.iloc[test_index]\n",
    "        y_train, y_test = target[train_index], target[test_index]\n",
    "        m = RandomForestClassifier(**params, random_state=1993)\n",
    "        m.fit(x_train,y_train)\n",
    "        preds=m.predict_proba(x_test)[:,-1]\n",
    "        #print(\"err: \",roc_auc_score(y_test,preds))\n",
    "        err_rf.append(roc_auc_score(y_test,preds))\n",
    "        i=i+1\n",
    "    print('AUC score: ',np.mean(err_rf,0))\n",
    "    return np.mean(err_rf,0) \n",
    "\n",
    "\n",
    "rf_bo = BayesianOptimization(rf_eval,{\n",
    "                                        'learning_rate':(0.01,10),\n",
    "                                        'n_estimators':(100,1500)\n",
    "                                      },\n",
    "                             random_state=1993)\n",
    "init_round=5\n",
    "opt_round = 10\n",
    "import warnings\n",
    "with warnings.catch_warnings():\n",
    "     warnings.filterwarnings('ignore')\n",
    "     rf_bo.maximize(init_points=init_round, n_iter=opt_round)\n",
    "\n",
    "\n",
    "\n",
    "\n",
    "# import seaborn as sns\n",
    "# sns.set(rc={'figure.figsize':(11.7,8.27)})\n",
    "# cat_feature_imp = pd.DataFrame([CatBoost.feature_names_ , CatBoost.feature_importances_]).T\n",
    "# cat_feature_imp.columns = [\"feature\",\"varimp\"]\n",
    "# cat_feature_imp = cat_feature_imp.sort_values(by=\"varimp\", ascending = False)\n",
    "# sns.barplot(y=\"feature\", x=\"varimp\",data = cat_feature_imp, )\n",
    "# plt.show()"
   ]
  },
  {
   "cell_type": "code",
   "execution_count": 0,
   "metadata": {
    "colab": {
     "base_uri": "https://localhost:8080/",
     "height": 34
    },
    "colab_type": "code",
    "id": "Fk6NKNeMfO71",
    "outputId": "de528550-fad1-42bb-ae64-9b7569791ef7"
   },
   "outputs": [
    {
     "data": {
      "text/plain": [
       "{'learning_rate': 1.0132182062479367, 'n_estimators': 407.175900607226}"
      ]
     },
     "execution_count": 38,
     "metadata": {
      "tags": []
     },
     "output_type": "execute_result"
    }
   ],
   "source": [
    "rf_bo.max['params']"
   ]
  },
  {
   "cell_type": "code",
   "execution_count": 0,
   "metadata": {
    "colab": {},
    "colab_type": "code",
    "id": "_IFjMSZ2wiz0"
   },
   "outputs": [],
   "source": []
  }
 ],
 "metadata": {
  "colab": {
   "collapsed_sections": [],
   "name": "AmExpert_Redemption.ipynb",
   "provenance": []
  },
  "kernelspec": {
   "display_name": "Python 3",
   "language": "python",
   "name": "python3"
  },
  "language_info": {
   "codemirror_mode": {
    "name": "ipython",
    "version": 3
   },
   "file_extension": ".py",
   "mimetype": "text/x-python",
   "name": "python",
   "nbconvert_exporter": "python",
   "pygments_lexer": "ipython3",
   "version": "3.7.0"
  }
 },
 "nbformat": 4,
 "nbformat_minor": 1
}
