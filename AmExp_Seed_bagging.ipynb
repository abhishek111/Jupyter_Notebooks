{
 "cells": [
  {
   "cell_type": "code",
   "execution_count": 15,
   "metadata": {},
   "outputs": [],
   "source": [
    "import pandas as pd\n",
    "import numpy as np\n",
    "\n",
    "import seaborn as sns\n",
    "import matplotlib.pyplot as plt\n",
    "%matplotlib inline\n",
    "\n",
    "from sklearn.preprocessing import MinMaxScaler\n",
    "from sklearn.model_selection import train_test_split, cross_val_score\n",
    "from sklearn.model_selection import KFold,StratifiedKFold, cross_val_score, train_test_split\n",
    "\n",
    "\n",
    "import lightgbm as lgb\n",
    "import xgboost as xgb\n",
    "import catboost as cb\n",
    "from sklearn.ensemble import AdaBoostClassifier, GradientBoostingClassifier, RandomForestClassifier\n",
    "from xgboost import XGBClassifier\n",
    "from sklearn.tree import DecisionTreeClassifier\n",
    "from lightgbm import LGBMClassifier\n",
    "from catboost import CatBoostClassifier,Pool, cv\n",
    "\n",
    "from sklearn.metrics import mean_squared_error, accuracy_score, roc_auc_score, f1_score"
   ]
  },
  {
   "cell_type": "code",
   "execution_count": 16,
   "metadata": {},
   "outputs": [
    {
     "data": {
      "text/plain": [
       "((78369, 66), (50226, 65))"
      ]
     },
     "execution_count": 16,
     "metadata": {},
     "output_type": "execute_result"
    }
   ],
   "source": [
    "train = pd.read_csv(\"trainF.csv\")\n",
    "test = pd.read_csv(\"testF.csv\")\n",
    "test_id = pd.read_csv(\"test.csv\")\n",
    "test_id = test_id['id']\n",
    "train.shape, test.shape"
   ]
  },
  {
   "cell_type": "code",
   "execution_count": 17,
   "metadata": {},
   "outputs": [
    {
     "data": {
      "text/plain": [
       "0    77640\n",
       "1      729\n",
       "Name: redemption_status, dtype: int64"
      ]
     },
     "execution_count": 17,
     "metadata": {},
     "output_type": "execute_result"
    }
   ],
   "source": [
    "train['redemption_status'].value_counts()"
   ]
  },
  {
   "cell_type": "code",
   "execution_count": 18,
   "metadata": {},
   "outputs": [],
   "source": [
    "target = train['redemption_status']\n",
    "train.drop('redemption_status', axis = 1, inplace = True)"
   ]
  },
  {
   "cell_type": "code",
   "execution_count": 19,
   "metadata": {},
   "outputs": [],
   "source": [
    "lgb_params = {\n",
    "     'metric': 'auc',\n",
    "     'objective' : 'binary',\n",
    "     'early_stopping_round':1000,\n",
    "     'bagging_fraction': 0.4,\n",
    "     'colsample_bytree': 0.4,\n",
    "     'feature_fraction': 0.4,\n",
    "     'lambda_l1': 0.0,\n",
    "     'lambda_l2': 0.0,\n",
    "     'learning_rate': 0.001,\n",
    "     'max_depth': 15,\n",
    "     'min_child_samples': 100,\n",
    "     'min_child_weight': 50,\n",
    "     'min_split_gain': 0.0010640577871197205,\n",
    "     'n_estimators': 1520,\n",
    "     'num_leaves': 196,\n",
    "     'subsample': 0.4,\n",
    "     'is_unbalance' :True\n",
    "}\n"
   ]
  },
  {
   "cell_type": "code",
   "execution_count": 20,
   "metadata": {},
   "outputs": [],
   "source": [
    "xgb_params = {\n",
    "    'booster' : 'gbtree',\n",
    "    'eta' : 0.1,\n",
    "    'nthread' : 4,\n",
    "    'silent' : True,\n",
    " #   'seed' : 1993,\n",
    "    'scale_pos_weight': 106,\n",
    "    'colsample_bytree': 0.547582701158404,\n",
    " 'gamma': 7.99661203221007,\n",
    " 'learning_rate': 0.036024836896883045,\n",
    " 'max_delta_step': 9.545974437155495,\n",
    " 'max_depth': 4,\n",
    " 'min_child_weight': 3.9108711107457483,\n",
    " 'n_estimators': 1015,\n",
    " 'num_leaves': 100,\n",
    " 'reg_alpha': 6.095828143522551,\n",
    " 'reg_lambda': 2.9017833667247137,\n",
    " 'subsample': 0.9458396927859323\n",
    "}"
   ]
  },
  {
   "cell_type": "code",
   "execution_count": 21,
   "metadata": {},
   "outputs": [],
   "source": [
    "def run_XGB(params,trainX, targetX, testX, seed = 0):    \n",
    "    err_xgbX=[]\n",
    "    y_pred_test_xgbX=[]\n",
    "    y_pred_trainCV_xgbX = np.zeros(train.shape[0])\n",
    "    y_pred_train_xgbX = []\n",
    "    from sklearn.model_selection import KFold,StratifiedKFold\n",
    "    fold=StratifiedKFold(n_splits=5,shuffle=True,random_state=seed)\n",
    "    i=1\n",
    "    for train_index, test_index in fold.split(trainX,targetX):\n",
    "        x_train, x_test = trainX.iloc[train_index], trainX.iloc[test_index]\n",
    "        y_train, y_test = targetX[train_index], targetX[test_index]\n",
    "        m = XGBClassifier(**params, random_state=1993)\n",
    "        m.fit(x_train,y_train,eval_set=[(x_test, y_test)],eval_metric='auc', early_stopping_rounds=200,verbose=200)\n",
    "        preds=m.predict_proba(x_test)[:,-1]\n",
    "        print(\"err: \",roc_auc_score(y_test,preds))\n",
    "        err_xgbX.append(roc_auc_score(y_test,preds))\n",
    "        p = m.predict_proba(testX)[:,-1]\n",
    "        y_pred_trainCV_xgbX[test_index] = preds \n",
    "        q = m.predict_proba(trainX)[:,-1]\n",
    "        i=i+1\n",
    "        y_pred_train_xgbX.append(q)\n",
    "        y_pred_test_xgbX.append(p)\n",
    "    return np.mean(y_pred_test_xgbX,0)"
   ]
  },
  {
   "cell_type": "code",
   "execution_count": 22,
   "metadata": {},
   "outputs": [],
   "source": [
    "def run_LGB(params, trainX, targetX, testX, seed = 0):    \n",
    "    err_lgb=[]\n",
    "    y_pred_test_lgb=[]\n",
    "    y_pred_trainCV_lgb = np.zeros(train.shape[0])\n",
    "    y_pred_train_lgb = []\n",
    "    from sklearn.model_selection import KFold,StratifiedKFold\n",
    "    fold=StratifiedKFold(n_splits=5,shuffle=True,random_state=seed)\n",
    "    i=1\n",
    "    for train_index, test_index in fold.split(trainX,targetX):\n",
    "        x_train, x_test = trainX.iloc[train_index], trainX.iloc[test_index]\n",
    "        y_train, y_test = targetX[train_index], targetX[test_index]\n",
    "        m = LGBMClassifier(**params, random_state=1993)\n",
    "        m.fit(x_train,y_train,eval_set=[(x_test, y_test)],eval_metric='auc', early_stopping_rounds=200,verbose=200)\n",
    "        preds=m.predict_proba(x_test)[:,-1]\n",
    "        print(\"err: \",roc_auc_score(y_test,preds))\n",
    "        err_lgb.append(roc_auc_score(y_test,preds))\n",
    "        p = m.predict_proba(testX)[:,-1]\n",
    "        y_pred_trainCV_lgb[test_index] = preds \n",
    "        q = m.predict_proba(trainX)[:,-1]\n",
    "        i=i+1\n",
    "        y_pred_train_lgb.append(q)\n",
    "        y_pred_test_lgb.append(p)\n",
    "    return np.mean(y_pred_test_lgb,0)"
   ]
  },
  {
   "cell_type": "code",
   "execution_count": 23,
   "metadata": {},
   "outputs": [],
   "source": [
    "def do_bag(train, test,target, params, seeds, model_type = \"LGB\"):\n",
    "    if model_type not in (\"LGB\", \"XGB\"):\n",
    "        raise ValueError(\"`model_type` must be either `LGB` or `XGB`\")\n",
    "    preds = []\n",
    "    for i, seed in enumerate(seeds):\n",
    "        print(\"#\" * 18)\n",
    "        print(f\"RUN - {i+1} , SEED - {seed}\")\n",
    "        print(\"#\" * 18)\n",
    "\n",
    "        np.random.seed(seed)\n",
    "        random.seed(seed)\n",
    "        os.environ[\"PYTHONHASHSEED\"]=str(seed)\n",
    "        if model_type == 'LGB':\n",
    "            params.update({\n",
    "                \"feature_fraction_seed\" : seed,\n",
    "                \"bagging_fraction_seed\" : seed\n",
    "            })\n",
    "            p = run_LGB(params, train, target, test, seed=seeds[i])\n",
    "        else:\n",
    "            params.update({\"seed\" : seed})\n",
    "            p = run_XGB(params, train, target, test, seed=seeds[i])\n",
    "        preds.append(p) \n",
    "    return np.mean(preds,0)"
   ]
  },
  {
   "cell_type": "code",
   "execution_count": 30,
   "metadata": {},
   "outputs": [],
   "source": [
    "lgb_seed = [2019, 2031, 90, 192, 83123, 5601]\n",
    "xgb_seed  = [2119, 1031, 190, 13192, 23123, 5603]"
   ]
  },
  {
   "cell_type": "code",
   "execution_count": 31,
   "metadata": {},
   "outputs": [
    {
     "name": "stdout",
     "output_type": "stream",
     "text": [
      "##################\n",
      "RUN - 1 , SEED - 2019\n",
      "##################\n"
     ]
    },
    {
     "name": "stderr",
     "output_type": "stream",
     "text": [
      "C:\\Users\\kumarabh\\AppData\\Local\\Continuum\\anaconda3\\lib\\site-packages\\lightgbm\\engine.py:118: UserWarning: Found `early_stopping_round` in params. Will use it instead of argument\n",
      "  warnings.warn(\"Found `{}` in params. Will use it instead of argument\".format(alias))\n"
     ]
    },
    {
     "name": "stdout",
     "output_type": "stream",
     "text": [
      "Training until validation scores don't improve for 1000 rounds.\n",
      "[200]\tvalid_0's auc: 0.930758\n",
      "[400]\tvalid_0's auc: 0.933549\n",
      "[600]\tvalid_0's auc: 0.933994\n",
      "[800]\tvalid_0's auc: 0.934185\n",
      "[1000]\tvalid_0's auc: 0.934062\n",
      "[1200]\tvalid_0's auc: 0.933868\n",
      "[1400]\tvalid_0's auc: 0.933679\n",
      "Did not meet early stopping. Best iteration is:\n",
      "[859]\tvalid_0's auc: 0.934222\n",
      "err:  0.9342215652855116\n"
     ]
    },
    {
     "name": "stderr",
     "output_type": "stream",
     "text": [
      "C:\\Users\\kumarabh\\AppData\\Local\\Continuum\\anaconda3\\lib\\site-packages\\lightgbm\\engine.py:118: UserWarning: Found `early_stopping_round` in params. Will use it instead of argument\n",
      "  warnings.warn(\"Found `{}` in params. Will use it instead of argument\".format(alias))\n"
     ]
    },
    {
     "name": "stdout",
     "output_type": "stream",
     "text": [
      "Training until validation scores don't improve for 1000 rounds.\n",
      "[200]\tvalid_0's auc: 0.942513\n",
      "[400]\tvalid_0's auc: 0.945359\n",
      "[600]\tvalid_0's auc: 0.94627\n",
      "[800]\tvalid_0's auc: 0.946931\n",
      "[1000]\tvalid_0's auc: 0.947289\n",
      "[1200]\tvalid_0's auc: 0.947454\n",
      "[1400]\tvalid_0's auc: 0.947552\n",
      "Did not meet early stopping. Best iteration is:\n",
      "[1519]\tvalid_0's auc: 0.947631\n",
      "err:  0.9476310579915732\n"
     ]
    },
    {
     "name": "stderr",
     "output_type": "stream",
     "text": [
      "C:\\Users\\kumarabh\\AppData\\Local\\Continuum\\anaconda3\\lib\\site-packages\\lightgbm\\engine.py:118: UserWarning: Found `early_stopping_round` in params. Will use it instead of argument\n",
      "  warnings.warn(\"Found `{}` in params. Will use it instead of argument\".format(alias))\n"
     ]
    },
    {
     "name": "stdout",
     "output_type": "stream",
     "text": [
      "Training until validation scores don't improve for 1000 rounds.\n",
      "[200]\tvalid_0's auc: 0.945328\n",
      "[400]\tvalid_0's auc: 0.946446\n",
      "[600]\tvalid_0's auc: 0.947238\n",
      "[800]\tvalid_0's auc: 0.947495\n",
      "[1000]\tvalid_0's auc: 0.94759\n",
      "[1200]\tvalid_0's auc: 0.947731\n",
      "[1400]\tvalid_0's auc: 0.947758\n",
      "Did not meet early stopping. Best iteration is:\n",
      "[1520]\tvalid_0's auc: 0.947923\n",
      "err:  0.9479228419893715\n"
     ]
    },
    {
     "name": "stderr",
     "output_type": "stream",
     "text": [
      "C:\\Users\\kumarabh\\AppData\\Local\\Continuum\\anaconda3\\lib\\site-packages\\lightgbm\\engine.py:118: UserWarning: Found `early_stopping_round` in params. Will use it instead of argument\n",
      "  warnings.warn(\"Found `{}` in params. Will use it instead of argument\".format(alias))\n"
     ]
    },
    {
     "name": "stdout",
     "output_type": "stream",
     "text": [
      "Training until validation scores don't improve for 1000 rounds.\n",
      "[200]\tvalid_0's auc: 0.922017\n",
      "[400]\tvalid_0's auc: 0.925762\n",
      "[600]\tvalid_0's auc: 0.927242\n",
      "[800]\tvalid_0's auc: 0.928091\n",
      "[1000]\tvalid_0's auc: 0.928659\n",
      "[1200]\tvalid_0's auc: 0.929215\n",
      "[1400]\tvalid_0's auc: 0.929644\n",
      "Did not meet early stopping. Best iteration is:\n",
      "[1520]\tvalid_0's auc: 0.929858\n",
      "err:  0.929858479247387\n"
     ]
    },
    {
     "name": "stderr",
     "output_type": "stream",
     "text": [
      "C:\\Users\\kumarabh\\AppData\\Local\\Continuum\\anaconda3\\lib\\site-packages\\lightgbm\\engine.py:118: UserWarning: Found `early_stopping_round` in params. Will use it instead of argument\n",
      "  warnings.warn(\"Found `{}` in params. Will use it instead of argument\".format(alias))\n"
     ]
    },
    {
     "name": "stdout",
     "output_type": "stream",
     "text": [
      "Training until validation scores don't improve for 1000 rounds.\n",
      "[200]\tvalid_0's auc: 0.940304\n",
      "[400]\tvalid_0's auc: 0.942384\n",
      "[600]\tvalid_0's auc: 0.943\n",
      "[800]\tvalid_0's auc: 0.943154\n",
      "[1000]\tvalid_0's auc: 0.94331\n",
      "[1200]\tvalid_0's auc: 0.943477\n",
      "[1400]\tvalid_0's auc: 0.943449\n",
      "Did not meet early stopping. Best iteration is:\n",
      "[1509]\tvalid_0's auc: 0.943602\n",
      "err:  0.9436022135763649\n",
      "##################\n",
      "RUN - 2 , SEED - 2031\n",
      "##################\n"
     ]
    },
    {
     "name": "stderr",
     "output_type": "stream",
     "text": [
      "C:\\Users\\kumarabh\\AppData\\Local\\Continuum\\anaconda3\\lib\\site-packages\\lightgbm\\engine.py:118: UserWarning: Found `early_stopping_round` in params. Will use it instead of argument\n",
      "  warnings.warn(\"Found `{}` in params. Will use it instead of argument\".format(alias))\n"
     ]
    },
    {
     "name": "stdout",
     "output_type": "stream",
     "text": [
      "Training until validation scores don't improve for 1000 rounds.\n",
      "[200]\tvalid_0's auc: 0.936105\n",
      "[400]\tvalid_0's auc: 0.93897\n",
      "[600]\tvalid_0's auc: 0.939343\n",
      "[800]\tvalid_0's auc: 0.939799\n",
      "[1000]\tvalid_0's auc: 0.940259\n",
      "[1200]\tvalid_0's auc: 0.940556\n",
      "[1400]\tvalid_0's auc: 0.941188\n",
      "Did not meet early stopping. Best iteration is:\n",
      "[1500]\tvalid_0's auc: 0.941403\n",
      "err:  0.9414030244966229\n"
     ]
    },
    {
     "name": "stderr",
     "output_type": "stream",
     "text": [
      "C:\\Users\\kumarabh\\AppData\\Local\\Continuum\\anaconda3\\lib\\site-packages\\lightgbm\\engine.py:118: UserWarning: Found `early_stopping_round` in params. Will use it instead of argument\n",
      "  warnings.warn(\"Found `{}` in params. Will use it instead of argument\".format(alias))\n"
     ]
    },
    {
     "name": "stdout",
     "output_type": "stream",
     "text": [
      "Training until validation scores don't improve for 1000 rounds.\n",
      "[200]\tvalid_0's auc: 0.92791\n",
      "[400]\tvalid_0's auc: 0.930782\n",
      "[600]\tvalid_0's auc: 0.931855\n",
      "[800]\tvalid_0's auc: 0.932759\n",
      "[1000]\tvalid_0's auc: 0.93355\n",
      "[1200]\tvalid_0's auc: 0.934009\n",
      "[1400]\tvalid_0's auc: 0.934508\n",
      "Did not meet early stopping. Best iteration is:\n",
      "[1520]\tvalid_0's auc: 0.934801\n",
      "err:  0.9348011634307976\n"
     ]
    },
    {
     "name": "stderr",
     "output_type": "stream",
     "text": [
      "C:\\Users\\kumarabh\\AppData\\Local\\Continuum\\anaconda3\\lib\\site-packages\\lightgbm\\engine.py:118: UserWarning: Found `early_stopping_round` in params. Will use it instead of argument\n",
      "  warnings.warn(\"Found `{}` in params. Will use it instead of argument\".format(alias))\n"
     ]
    },
    {
     "name": "stdout",
     "output_type": "stream",
     "text": [
      "Training until validation scores don't improve for 1000 rounds.\n",
      "[200]\tvalid_0's auc: 0.931875\n",
      "[400]\tvalid_0's auc: 0.933088\n",
      "[600]\tvalid_0's auc: 0.933581\n",
      "[800]\tvalid_0's auc: 0.933983\n",
      "[1000]\tvalid_0's auc: 0.934076\n",
      "[1200]\tvalid_0's auc: 0.934295\n",
      "[1400]\tvalid_0's auc: 0.934378\n",
      "Did not meet early stopping. Best iteration is:\n",
      "[1505]\tvalid_0's auc: 0.934507\n",
      "err:  0.9345071739606049\n"
     ]
    },
    {
     "name": "stderr",
     "output_type": "stream",
     "text": [
      "C:\\Users\\kumarabh\\AppData\\Local\\Continuum\\anaconda3\\lib\\site-packages\\lightgbm\\engine.py:118: UserWarning: Found `early_stopping_round` in params. Will use it instead of argument\n",
      "  warnings.warn(\"Found `{}` in params. Will use it instead of argument\".format(alias))\n"
     ]
    },
    {
     "name": "stdout",
     "output_type": "stream",
     "text": [
      "Training until validation scores don't improve for 1000 rounds.\n",
      "[200]\tvalid_0's auc: 0.938043\n",
      "[400]\tvalid_0's auc: 0.93939\n",
      "[600]\tvalid_0's auc: 0.939153\n",
      "[800]\tvalid_0's auc: 0.939543\n",
      "[1000]\tvalid_0's auc: 0.939868\n",
      "[1200]\tvalid_0's auc: 0.940154\n",
      "[1400]\tvalid_0's auc: 0.940392\n",
      "Did not meet early stopping. Best iteration is:\n",
      "[1490]\tvalid_0's auc: 0.940549\n",
      "err:  0.9405490655854558\n"
     ]
    },
    {
     "name": "stderr",
     "output_type": "stream",
     "text": [
      "C:\\Users\\kumarabh\\AppData\\Local\\Continuum\\anaconda3\\lib\\site-packages\\lightgbm\\engine.py:118: UserWarning: Found `early_stopping_round` in params. Will use it instead of argument\n",
      "  warnings.warn(\"Found `{}` in params. Will use it instead of argument\".format(alias))\n"
     ]
    },
    {
     "name": "stdout",
     "output_type": "stream",
     "text": [
      "Training until validation scores don't improve for 1000 rounds.\n",
      "[200]\tvalid_0's auc: 0.938523\n",
      "[400]\tvalid_0's auc: 0.941165\n",
      "[600]\tvalid_0's auc: 0.941778\n",
      "[800]\tvalid_0's auc: 0.942154\n",
      "[1000]\tvalid_0's auc: 0.942299\n",
      "[1200]\tvalid_0's auc: 0.942325\n",
      "[1400]\tvalid_0's auc: 0.942346\n",
      "Did not meet early stopping. Best iteration is:\n",
      "[1520]\tvalid_0's auc: 0.942467\n",
      "err:  0.9424672227255769\n",
      "##################\n",
      "RUN - 3 , SEED - 90\n",
      "##################\n"
     ]
    },
    {
     "name": "stderr",
     "output_type": "stream",
     "text": [
      "C:\\Users\\kumarabh\\AppData\\Local\\Continuum\\anaconda3\\lib\\site-packages\\lightgbm\\engine.py:118: UserWarning: Found `early_stopping_round` in params. Will use it instead of argument\n",
      "  warnings.warn(\"Found `{}` in params. Will use it instead of argument\".format(alias))\n"
     ]
    },
    {
     "name": "stdout",
     "output_type": "stream",
     "text": [
      "Training until validation scores don't improve for 1000 rounds.\n",
      "[200]\tvalid_0's auc: 0.922991\n",
      "[400]\tvalid_0's auc: 0.924965\n",
      "[600]\tvalid_0's auc: 0.926113\n",
      "[800]\tvalid_0's auc: 0.926628\n",
      "[1000]\tvalid_0's auc: 0.927183\n",
      "[1200]\tvalid_0's auc: 0.927653\n",
      "[1400]\tvalid_0's auc: 0.928054\n",
      "Did not meet early stopping. Best iteration is:\n",
      "[1519]\tvalid_0's auc: 0.928168\n",
      "err:  0.9281682052042091\n"
     ]
    },
    {
     "name": "stderr",
     "output_type": "stream",
     "text": [
      "C:\\Users\\kumarabh\\AppData\\Local\\Continuum\\anaconda3\\lib\\site-packages\\lightgbm\\engine.py:118: UserWarning: Found `early_stopping_round` in params. Will use it instead of argument\n",
      "  warnings.warn(\"Found `{}` in params. Will use it instead of argument\".format(alias))\n"
     ]
    },
    {
     "name": "stdout",
     "output_type": "stream",
     "text": [
      "Training until validation scores don't improve for 1000 rounds.\n",
      "[200]\tvalid_0's auc: 0.939149\n",
      "[400]\tvalid_0's auc: 0.941963\n",
      "[600]\tvalid_0's auc: 0.942759\n",
      "[800]\tvalid_0's auc: 0.943371\n",
      "[1000]\tvalid_0's auc: 0.943698\n",
      "[1200]\tvalid_0's auc: 0.943878\n",
      "[1400]\tvalid_0's auc: 0.943981\n",
      "Did not meet early stopping. Best iteration is:\n",
      "[1323]\tvalid_0's auc: 0.94413\n",
      "err:  0.9441298705652361\n"
     ]
    },
    {
     "name": "stderr",
     "output_type": "stream",
     "text": [
      "C:\\Users\\kumarabh\\AppData\\Local\\Continuum\\anaconda3\\lib\\site-packages\\lightgbm\\engine.py:118: UserWarning: Found `early_stopping_round` in params. Will use it instead of argument\n",
      "  warnings.warn(\"Found `{}` in params. Will use it instead of argument\".format(alias))\n"
     ]
    },
    {
     "name": "stdout",
     "output_type": "stream",
     "text": [
      "Training until validation scores don't improve for 1000 rounds.\n",
      "[200]\tvalid_0's auc: 0.931359\n",
      "[400]\tvalid_0's auc: 0.936643\n",
      "[600]\tvalid_0's auc: 0.938166\n",
      "[800]\tvalid_0's auc: 0.938959\n",
      "[1000]\tvalid_0's auc: 0.939496\n",
      "[1200]\tvalid_0's auc: 0.9398\n",
      "[1400]\tvalid_0's auc: 0.940128\n",
      "Did not meet early stopping. Best iteration is:\n",
      "[1509]\tvalid_0's auc: 0.940356\n",
      "err:  0.9403560867509333\n"
     ]
    },
    {
     "name": "stderr",
     "output_type": "stream",
     "text": [
      "C:\\Users\\kumarabh\\AppData\\Local\\Continuum\\anaconda3\\lib\\site-packages\\lightgbm\\engine.py:118: UserWarning: Found `early_stopping_round` in params. Will use it instead of argument\n",
      "  warnings.warn(\"Found `{}` in params. Will use it instead of argument\".format(alias))\n"
     ]
    },
    {
     "name": "stdout",
     "output_type": "stream",
     "text": [
      "Training until validation scores don't improve for 1000 rounds.\n",
      "[200]\tvalid_0's auc: 0.939227\n",
      "[400]\tvalid_0's auc: 0.941712\n",
      "[600]\tvalid_0's auc: 0.942737\n",
      "[800]\tvalid_0's auc: 0.943314\n",
      "[1000]\tvalid_0's auc: 0.943876\n",
      "[1200]\tvalid_0's auc: 0.944241\n",
      "[1400]\tvalid_0's auc: 0.944639\n",
      "Did not meet early stopping. Best iteration is:\n",
      "[1505]\tvalid_0's auc: 0.944765\n",
      "err:  0.944765267162104\n"
     ]
    },
    {
     "name": "stderr",
     "output_type": "stream",
     "text": [
      "C:\\Users\\kumarabh\\AppData\\Local\\Continuum\\anaconda3\\lib\\site-packages\\lightgbm\\engine.py:118: UserWarning: Found `early_stopping_round` in params. Will use it instead of argument\n",
      "  warnings.warn(\"Found `{}` in params. Will use it instead of argument\".format(alias))\n"
     ]
    },
    {
     "name": "stdout",
     "output_type": "stream",
     "text": [
      "Training until validation scores don't improve for 1000 rounds.\n",
      "[200]\tvalid_0's auc: 0.94173\n",
      "[400]\tvalid_0's auc: 0.943102\n",
      "[600]\tvalid_0's auc: 0.94344\n",
      "[800]\tvalid_0's auc: 0.943862\n",
      "[1000]\tvalid_0's auc: 0.943927\n",
      "[1200]\tvalid_0's auc: 0.943982\n",
      "[1400]\tvalid_0's auc: 0.944066\n",
      "Did not meet early stopping. Best iteration is:\n",
      "[1493]\tvalid_0's auc: 0.944198\n",
      "err:  0.9441982447725132\n",
      "##################\n",
      "RUN - 4 , SEED - 192\n",
      "##################\n"
     ]
    },
    {
     "name": "stderr",
     "output_type": "stream",
     "text": [
      "C:\\Users\\kumarabh\\AppData\\Local\\Continuum\\anaconda3\\lib\\site-packages\\lightgbm\\engine.py:118: UserWarning: Found `early_stopping_round` in params. Will use it instead of argument\n",
      "  warnings.warn(\"Found `{}` in params. Will use it instead of argument\".format(alias))\n"
     ]
    },
    {
     "name": "stdout",
     "output_type": "stream",
     "text": [
      "Training until validation scores don't improve for 1000 rounds.\n",
      "[200]\tvalid_0's auc: 0.934336\n",
      "[400]\tvalid_0's auc: 0.936983\n",
      "[600]\tvalid_0's auc: 0.937731\n",
      "[800]\tvalid_0's auc: 0.938482\n",
      "[1000]\tvalid_0's auc: 0.938984\n",
      "[1200]\tvalid_0's auc: 0.939529\n",
      "[1400]\tvalid_0's auc: 0.939936\n",
      "Did not meet early stopping. Best iteration is:\n",
      "[1518]\tvalid_0's auc: 0.940235\n",
      "err:  0.9402347857692335\n"
     ]
    },
    {
     "name": "stderr",
     "output_type": "stream",
     "text": [
      "C:\\Users\\kumarabh\\AppData\\Local\\Continuum\\anaconda3\\lib\\site-packages\\lightgbm\\engine.py:118: UserWarning: Found `early_stopping_round` in params. Will use it instead of argument\n",
      "  warnings.warn(\"Found `{}` in params. Will use it instead of argument\".format(alias))\n"
     ]
    },
    {
     "name": "stdout",
     "output_type": "stream",
     "text": [
      "Training until validation scores don't improve for 1000 rounds.\n",
      "[200]\tvalid_0's auc: 0.936461\n",
      "[400]\tvalid_0's auc: 0.937882\n",
      "[600]\tvalid_0's auc: 0.937995\n",
      "[800]\tvalid_0's auc: 0.938033\n",
      "[1000]\tvalid_0's auc: 0.938241\n",
      "[1200]\tvalid_0's auc: 0.938483\n",
      "[1400]\tvalid_0's auc: 0.93842\n",
      "Did not meet early stopping. Best iteration is:\n",
      "[1140]\tvalid_0's auc: 0.938579\n",
      "err:  0.9385789170954104\n"
     ]
    },
    {
     "name": "stderr",
     "output_type": "stream",
     "text": [
      "C:\\Users\\kumarabh\\AppData\\Local\\Continuum\\anaconda3\\lib\\site-packages\\lightgbm\\engine.py:118: UserWarning: Found `early_stopping_round` in params. Will use it instead of argument\n",
      "  warnings.warn(\"Found `{}` in params. Will use it instead of argument\".format(alias))\n"
     ]
    },
    {
     "name": "stdout",
     "output_type": "stream",
     "text": [
      "Training until validation scores don't improve for 1000 rounds.\n",
      "[200]\tvalid_0's auc: 0.932657\n",
      "[400]\tvalid_0's auc: 0.935112\n",
      "[600]\tvalid_0's auc: 0.935731\n",
      "[800]\tvalid_0's auc: 0.935823\n",
      "[1000]\tvalid_0's auc: 0.936127\n",
      "[1200]\tvalid_0's auc: 0.935935\n",
      "[1400]\tvalid_0's auc: 0.935974\n",
      "Did not meet early stopping. Best iteration is:\n",
      "[1015]\tvalid_0's auc: 0.9362\n",
      "err:  0.9362000945706562\n"
     ]
    },
    {
     "name": "stderr",
     "output_type": "stream",
     "text": [
      "C:\\Users\\kumarabh\\AppData\\Local\\Continuum\\anaconda3\\lib\\site-packages\\lightgbm\\engine.py:118: UserWarning: Found `early_stopping_round` in params. Will use it instead of argument\n",
      "  warnings.warn(\"Found `{}` in params. Will use it instead of argument\".format(alias))\n"
     ]
    },
    {
     "name": "stdout",
     "output_type": "stream",
     "text": [
      "Training until validation scores don't improve for 1000 rounds.\n",
      "[200]\tvalid_0's auc: 0.937683\n",
      "[400]\tvalid_0's auc: 0.940625\n",
      "[600]\tvalid_0's auc: 0.941695\n",
      "[800]\tvalid_0's auc: 0.942227\n",
      "[1000]\tvalid_0's auc: 0.942951\n",
      "[1200]\tvalid_0's auc: 0.943192\n",
      "[1400]\tvalid_0's auc: 0.943391\n",
      "Did not meet early stopping. Best iteration is:\n",
      "[1512]\tvalid_0's auc: 0.943522\n",
      "err:  0.9435218218260605\n"
     ]
    },
    {
     "name": "stderr",
     "output_type": "stream",
     "text": [
      "C:\\Users\\kumarabh\\AppData\\Local\\Continuum\\anaconda3\\lib\\site-packages\\lightgbm\\engine.py:118: UserWarning: Found `early_stopping_round` in params. Will use it instead of argument\n",
      "  warnings.warn(\"Found `{}` in params. Will use it instead of argument\".format(alias))\n"
     ]
    },
    {
     "name": "stdout",
     "output_type": "stream",
     "text": [
      "Training until validation scores don't improve for 1000 rounds.\n",
      "[200]\tvalid_0's auc: 0.938872\n",
      "[400]\tvalid_0's auc: 0.942011\n",
      "[600]\tvalid_0's auc: 0.943525\n",
      "[800]\tvalid_0's auc: 0.943988\n",
      "[1000]\tvalid_0's auc: 0.944319\n",
      "[1200]\tvalid_0's auc: 0.944317\n",
      "[1400]\tvalid_0's auc: 0.944329\n",
      "Did not meet early stopping. Best iteration is:\n",
      "[1515]\tvalid_0's auc: 0.944443\n",
      "err:  0.944442741921157\n",
      "##################\n",
      "RUN - 5 , SEED - 83123\n",
      "##################\n"
     ]
    },
    {
     "name": "stderr",
     "output_type": "stream",
     "text": [
      "C:\\Users\\kumarabh\\AppData\\Local\\Continuum\\anaconda3\\lib\\site-packages\\lightgbm\\engine.py:118: UserWarning: Found `early_stopping_round` in params. Will use it instead of argument\n",
      "  warnings.warn(\"Found `{}` in params. Will use it instead of argument\".format(alias))\n"
     ]
    },
    {
     "name": "stdout",
     "output_type": "stream",
     "text": [
      "Training until validation scores don't improve for 1000 rounds.\n",
      "[200]\tvalid_0's auc: 0.938097\n",
      "[400]\tvalid_0's auc: 0.93971\n",
      "[600]\tvalid_0's auc: 0.940703\n",
      "[800]\tvalid_0's auc: 0.941166\n",
      "[1000]\tvalid_0's auc: 0.94136\n",
      "[1200]\tvalid_0's auc: 0.941789\n",
      "[1400]\tvalid_0's auc: 0.94204\n",
      "Did not meet early stopping. Best iteration is:\n",
      "[1503]\tvalid_0's auc: 0.942258\n",
      "err:  0.9422583066912268\n"
     ]
    },
    {
     "name": "stderr",
     "output_type": "stream",
     "text": [
      "C:\\Users\\kumarabh\\AppData\\Local\\Continuum\\anaconda3\\lib\\site-packages\\lightgbm\\engine.py:118: UserWarning: Found `early_stopping_round` in params. Will use it instead of argument\n",
      "  warnings.warn(\"Found `{}` in params. Will use it instead of argument\".format(alias))\n"
     ]
    },
    {
     "name": "stdout",
     "output_type": "stream",
     "text": [
      "Training until validation scores don't improve for 1000 rounds.\n",
      "[200]\tvalid_0's auc: 0.92164\n",
      "[400]\tvalid_0's auc: 0.924653\n",
      "[600]\tvalid_0's auc: 0.925779\n",
      "[800]\tvalid_0's auc: 0.926348\n",
      "[1000]\tvalid_0's auc: 0.926933\n",
      "[1200]\tvalid_0's auc: 0.927437\n",
      "[1400]\tvalid_0's auc: 0.927846\n",
      "Did not meet early stopping. Best iteration is:\n",
      "[1496]\tvalid_0's auc: 0.928137\n",
      "err:  0.928137108043446\n"
     ]
    },
    {
     "name": "stderr",
     "output_type": "stream",
     "text": [
      "C:\\Users\\kumarabh\\AppData\\Local\\Continuum\\anaconda3\\lib\\site-packages\\lightgbm\\engine.py:118: UserWarning: Found `early_stopping_round` in params. Will use it instead of argument\n",
      "  warnings.warn(\"Found `{}` in params. Will use it instead of argument\".format(alias))\n"
     ]
    },
    {
     "name": "stdout",
     "output_type": "stream",
     "text": [
      "Training until validation scores don't improve for 1000 rounds.\n",
      "[200]\tvalid_0's auc: 0.930818\n",
      "[400]\tvalid_0's auc: 0.931671\n",
      "[600]\tvalid_0's auc: 0.931603\n",
      "[800]\tvalid_0's auc: 0.931667\n",
      "[1000]\tvalid_0's auc: 0.931689\n",
      "[1200]\tvalid_0's auc: 0.931944\n",
      "[1400]\tvalid_0's auc: 0.931966\n",
      "Did not meet early stopping. Best iteration is:\n",
      "[1519]\tvalid_0's auc: 0.932185\n",
      "err:  0.9321848115291511\n"
     ]
    },
    {
     "name": "stderr",
     "output_type": "stream",
     "text": [
      "C:\\Users\\kumarabh\\AppData\\Local\\Continuum\\anaconda3\\lib\\site-packages\\lightgbm\\engine.py:118: UserWarning: Found `early_stopping_round` in params. Will use it instead of argument\n",
      "  warnings.warn(\"Found `{}` in params. Will use it instead of argument\".format(alias))\n"
     ]
    },
    {
     "name": "stdout",
     "output_type": "stream",
     "text": [
      "Training until validation scores don't improve for 1000 rounds.\n",
      "[200]\tvalid_0's auc: 0.940153\n",
      "[400]\tvalid_0's auc: 0.942778\n",
      "[600]\tvalid_0's auc: 0.943609\n",
      "[800]\tvalid_0's auc: 0.94364\n",
      "[1000]\tvalid_0's auc: 0.943933\n",
      "[1200]\tvalid_0's auc: 0.944011\n",
      "[1400]\tvalid_0's auc: 0.944025\n",
      "Did not meet early stopping. Best iteration is:\n",
      "[1518]\tvalid_0's auc: 0.944118\n",
      "err:  0.9441177404670661\n"
     ]
    },
    {
     "name": "stderr",
     "output_type": "stream",
     "text": [
      "C:\\Users\\kumarabh\\AppData\\Local\\Continuum\\anaconda3\\lib\\site-packages\\lightgbm\\engine.py:118: UserWarning: Found `early_stopping_round` in params. Will use it instead of argument\n",
      "  warnings.warn(\"Found `{}` in params. Will use it instead of argument\".format(alias))\n"
     ]
    },
    {
     "name": "stdout",
     "output_type": "stream",
     "text": [
      "Training until validation scores don't improve for 1000 rounds.\n",
      "[200]\tvalid_0's auc: 0.944264\n",
      "[400]\tvalid_0's auc: 0.948354\n",
      "[600]\tvalid_0's auc: 0.949947\n",
      "[800]\tvalid_0's auc: 0.950515\n",
      "[1000]\tvalid_0's auc: 0.950917\n",
      "[1200]\tvalid_0's auc: 0.951486\n",
      "[1400]\tvalid_0's auc: 0.95169\n",
      "Did not meet early stopping. Best iteration is:\n",
      "[1495]\tvalid_0's auc: 0.951823\n",
      "err:  0.9518227362362095\n",
      "##################\n",
      "RUN - 6 , SEED - 5601\n",
      "##################\n"
     ]
    },
    {
     "name": "stderr",
     "output_type": "stream",
     "text": [
      "C:\\Users\\kumarabh\\AppData\\Local\\Continuum\\anaconda3\\lib\\site-packages\\lightgbm\\engine.py:118: UserWarning: Found `early_stopping_round` in params. Will use it instead of argument\n",
      "  warnings.warn(\"Found `{}` in params. Will use it instead of argument\".format(alias))\n"
     ]
    },
    {
     "name": "stdout",
     "output_type": "stream",
     "text": [
      "Training until validation scores don't improve for 1000 rounds.\n",
      "[200]\tvalid_0's auc: 0.938751\n",
      "[400]\tvalid_0's auc: 0.941483\n",
      "[600]\tvalid_0's auc: 0.942708\n",
      "[800]\tvalid_0's auc: 0.943393\n",
      "[1000]\tvalid_0's auc: 0.943789\n",
      "[1200]\tvalid_0's auc: 0.943947\n",
      "[1400]\tvalid_0's auc: 0.944297\n",
      "Did not meet early stopping. Best iteration is:\n",
      "[1388]\tvalid_0's auc: 0.944302\n",
      "err:  0.944301676864771\n"
     ]
    },
    {
     "name": "stderr",
     "output_type": "stream",
     "text": [
      "C:\\Users\\kumarabh\\AppData\\Local\\Continuum\\anaconda3\\lib\\site-packages\\lightgbm\\engine.py:118: UserWarning: Found `early_stopping_round` in params. Will use it instead of argument\n",
      "  warnings.warn(\"Found `{}` in params. Will use it instead of argument\".format(alias))\n"
     ]
    },
    {
     "name": "stdout",
     "output_type": "stream",
     "text": [
      "Training until validation scores don't improve for 1000 rounds.\n",
      "[200]\tvalid_0's auc: 0.934643\n",
      "[400]\tvalid_0's auc: 0.93757\n",
      "[600]\tvalid_0's auc: 0.938081\n",
      "[800]\tvalid_0's auc: 0.938424\n",
      "[1000]\tvalid_0's auc: 0.938836\n",
      "[1200]\tvalid_0's auc: 0.939138\n",
      "[1400]\tvalid_0's auc: 0.939505\n",
      "Did not meet early stopping. Best iteration is:\n",
      "[1519]\tvalid_0's auc: 0.939687\n",
      "err:  0.9396869464264289\n"
     ]
    },
    {
     "name": "stderr",
     "output_type": "stream",
     "text": [
      "C:\\Users\\kumarabh\\AppData\\Local\\Continuum\\anaconda3\\lib\\site-packages\\lightgbm\\engine.py:118: UserWarning: Found `early_stopping_round` in params. Will use it instead of argument\n",
      "  warnings.warn(\"Found `{}` in params. Will use it instead of argument\".format(alias))\n"
     ]
    },
    {
     "name": "stdout",
     "output_type": "stream",
     "text": [
      "Training until validation scores don't improve for 1000 rounds.\n",
      "[200]\tvalid_0's auc: 0.933482\n",
      "[400]\tvalid_0's auc: 0.935987\n",
      "[600]\tvalid_0's auc: 0.936927\n",
      "[800]\tvalid_0's auc: 0.937594\n",
      "[1000]\tvalid_0's auc: 0.937967\n",
      "[1200]\tvalid_0's auc: 0.93837\n",
      "[1400]\tvalid_0's auc: 0.938713\n",
      "Did not meet early stopping. Best iteration is:\n",
      "[1520]\tvalid_0's auc: 0.938851\n",
      "err:  0.9388506312944183\n"
     ]
    },
    {
     "name": "stderr",
     "output_type": "stream",
     "text": [
      "C:\\Users\\kumarabh\\AppData\\Local\\Continuum\\anaconda3\\lib\\site-packages\\lightgbm\\engine.py:118: UserWarning: Found `early_stopping_round` in params. Will use it instead of argument\n",
      "  warnings.warn(\"Found `{}` in params. Will use it instead of argument\".format(alias))\n"
     ]
    },
    {
     "name": "stdout",
     "output_type": "stream",
     "text": [
      "Training until validation scores don't improve for 1000 rounds.\n",
      "[200]\tvalid_0's auc: 0.935889\n",
      "[400]\tvalid_0's auc: 0.939743\n",
      "[600]\tvalid_0's auc: 0.94089\n",
      "[800]\tvalid_0's auc: 0.941113\n",
      "[1000]\tvalid_0's auc: 0.941578\n",
      "[1200]\tvalid_0's auc: 0.941727\n",
      "[1400]\tvalid_0's auc: 0.941993\n",
      "Did not meet early stopping. Best iteration is:\n",
      "[1507]\tvalid_0's auc: 0.942234\n",
      "err:  0.9422338259476473\n"
     ]
    },
    {
     "name": "stderr",
     "output_type": "stream",
     "text": [
      "C:\\Users\\kumarabh\\AppData\\Local\\Continuum\\anaconda3\\lib\\site-packages\\lightgbm\\engine.py:118: UserWarning: Found `early_stopping_round` in params. Will use it instead of argument\n",
      "  warnings.warn(\"Found `{}` in params. Will use it instead of argument\".format(alias))\n"
     ]
    },
    {
     "name": "stdout",
     "output_type": "stream",
     "text": [
      "Training until validation scores don't improve for 1000 rounds.\n",
      "[200]\tvalid_0's auc: 0.934852\n",
      "[400]\tvalid_0's auc: 0.937726\n",
      "[600]\tvalid_0's auc: 0.938904\n",
      "[800]\tvalid_0's auc: 0.939581\n",
      "[1000]\tvalid_0's auc: 0.940486\n",
      "[1200]\tvalid_0's auc: 0.940942\n",
      "[1400]\tvalid_0's auc: 0.941524\n",
      "Did not meet early stopping. Best iteration is:\n",
      "[1518]\tvalid_0's auc: 0.941927\n",
      "err:  0.9419267085931532\n",
      "##################\n",
      "RUN - 1 , SEED - 2119\n",
      "##################\n",
      "[0]\tvalidation_0-auc:0.877646\n",
      "Will train until validation_0-auc hasn't improved in 200 rounds.\n",
      "[200]\tvalidation_0-auc:0.942691\n",
      "[400]\tvalidation_0-auc:0.94561\n",
      "[600]\tvalidation_0-auc:0.945545\n",
      "[800]\tvalidation_0-auc:0.94664\n",
      "[1000]\tvalidation_0-auc:0.947582\n",
      "[1014]\tvalidation_0-auc:0.947616\n",
      "err:  0.9476385565977148\n",
      "[0]\tvalidation_0-auc:0.856305\n",
      "Will train until validation_0-auc hasn't improved in 200 rounds.\n",
      "[200]\tvalidation_0-auc:0.915408\n",
      "[400]\tvalidation_0-auc:0.915006\n",
      "Stopping. Best iteration:\n",
      "[268]\tvalidation_0-auc:0.917035\n",
      "\n",
      "err:  0.9170352011037948\n",
      "[0]\tvalidation_0-auc:0.876831\n",
      "Will train until validation_0-auc hasn't improved in 200 rounds.\n",
      "[200]\tvalidation_0-auc:0.940663\n",
      "[400]\tvalidation_0-auc:0.944506\n",
      "[600]\tvalidation_0-auc:0.944691\n",
      "Stopping. Best iteration:\n",
      "[514]\tvalidation_0-auc:0.945358\n",
      "\n",
      "err:  0.9453576570472783\n",
      "[0]\tvalidation_0-auc:0.855229\n",
      "Will train until validation_0-auc hasn't improved in 200 rounds.\n",
      "[200]\tvalidation_0-auc:0.934986\n",
      "[400]\tvalidation_0-auc:0.937536\n",
      "[600]\tvalidation_0-auc:0.939774\n",
      "[800]\tvalidation_0-auc:0.94024\n",
      "[1000]\tvalidation_0-auc:0.94034\n",
      "[1014]\tvalidation_0-auc:0.940377\n",
      "err:  0.9407903442654189\n",
      "[0]\tvalidation_0-auc:0.874673\n",
      "Will train until validation_0-auc hasn't improved in 200 rounds.\n",
      "[200]\tvalidation_0-auc:0.927136\n",
      "[400]\tvalidation_0-auc:0.931301\n",
      "[600]\tvalidation_0-auc:0.933119\n",
      "[800]\tvalidation_0-auc:0.933481\n",
      "Stopping. Best iteration:\n",
      "[733]\tvalidation_0-auc:0.934196\n",
      "\n",
      "err:  0.9341960685036153\n",
      "##################\n",
      "RUN - 2 , SEED - 1031\n",
      "##################\n",
      "[0]\tvalidation_0-auc:0.886451\n",
      "Will train until validation_0-auc hasn't improved in 200 rounds.\n",
      "[200]\tvalidation_0-auc:0.931515\n",
      "[400]\tvalidation_0-auc:0.935297\n",
      "[600]\tvalidation_0-auc:0.936309\n",
      "[800]\tvalidation_0-auc:0.936869\n",
      "[1000]\tvalidation_0-auc:0.937311\n",
      "[1014]\tvalidation_0-auc:0.937456\n",
      "err:  0.9374953685079714\n",
      "[0]\tvalidation_0-auc:0.885096\n",
      "Will train until validation_0-auc hasn't improved in 200 rounds.\n",
      "[200]\tvalidation_0-auc:0.924744\n",
      "[400]\tvalidation_0-auc:0.926945\n",
      "[600]\tvalidation_0-auc:0.926317\n",
      "Stopping. Best iteration:\n",
      "[439]\tvalidation_0-auc:0.927108\n",
      "\n",
      "err:  0.9271080346241523\n",
      "[0]\tvalidation_0-auc:0.882344\n",
      "Will train until validation_0-auc hasn't improved in 200 rounds.\n",
      "[200]\tvalidation_0-auc:0.928781\n",
      "[400]\tvalidation_0-auc:0.930775\n",
      "Stopping. Best iteration:\n",
      "[379]\tvalidation_0-auc:0.931189\n",
      "\n",
      "err:  0.9311890407430148\n",
      "[0]\tvalidation_0-auc:0.884645\n",
      "Will train until validation_0-auc hasn't improved in 200 rounds.\n",
      "[200]\tvalidation_0-auc:0.929316\n",
      "[400]\tvalidation_0-auc:0.932731\n",
      "[600]\tvalidation_0-auc:0.934318\n",
      "[800]\tvalidation_0-auc:0.934602\n",
      "Stopping. Best iteration:\n",
      "[665]\tvalidation_0-auc:0.934977\n",
      "\n",
      "err:  0.9349764984861637\n",
      "[0]\tvalidation_0-auc:0.912784\n",
      "Will train until validation_0-auc hasn't improved in 200 rounds.\n",
      "[200]\tvalidation_0-auc:0.951587\n",
      "[400]\tvalidation_0-auc:0.95583\n",
      "[600]\tvalidation_0-auc:0.957552\n",
      "[800]\tvalidation_0-auc:0.958517\n",
      "[1000]\tvalidation_0-auc:0.958434\n",
      "[1014]\tvalidation_0-auc:0.95848\n",
      "err:  0.9588656309403258\n",
      "##################\n",
      "RUN - 3 , SEED - 190\n",
      "##################\n",
      "[0]\tvalidation_0-auc:0.873377\n",
      "Will train until validation_0-auc hasn't improved in 200 rounds.\n",
      "[200]\tvalidation_0-auc:0.921238\n",
      "[400]\tvalidation_0-auc:0.921387\n",
      "Stopping. Best iteration:\n",
      "[319]\tvalidation_0-auc:0.922463\n",
      "\n",
      "err:  0.9224630892140049\n",
      "[0]\tvalidation_0-auc:0.893788\n",
      "Will train until validation_0-auc hasn't improved in 200 rounds.\n",
      "[200]\tvalidation_0-auc:0.949172\n",
      "[400]\tvalidation_0-auc:0.951553\n",
      "[600]\tvalidation_0-auc:0.952876\n",
      "[800]\tvalidation_0-auc:0.953377\n",
      "[1000]\tvalidation_0-auc:0.953156\n",
      "[1014]\tvalidation_0-auc:0.953015\n",
      "err:  0.9535448116703014\n",
      "[0]\tvalidation_0-auc:0.886429\n",
      "Will train until validation_0-auc hasn't improved in 200 rounds.\n",
      "[200]\tvalidation_0-auc:0.946871\n",
      "[400]\tvalidation_0-auc:0.951176\n",
      "[600]\tvalidation_0-auc:0.952256\n",
      "[800]\tvalidation_0-auc:0.95248\n",
      "[1000]\tvalidation_0-auc:0.95276\n",
      "[1014]\tvalidation_0-auc:0.952721\n",
      "err:  0.9527971565285511\n",
      "[0]\tvalidation_0-auc:0.858306\n",
      "Will train until validation_0-auc hasn't improved in 200 rounds.\n",
      "[200]\tvalidation_0-auc:0.922243\n",
      "[400]\tvalidation_0-auc:0.925488\n",
      "[600]\tvalidation_0-auc:0.926201\n",
      "[800]\tvalidation_0-auc:0.927906\n",
      "[1000]\tvalidation_0-auc:0.928404\n",
      "[1014]\tvalidation_0-auc:0.928329\n",
      "err:  0.9284145564706796\n",
      "[0]\tvalidation_0-auc:0.814778\n",
      "Will train until validation_0-auc hasn't improved in 200 rounds.\n",
      "[200]\tvalidation_0-auc:0.930206\n",
      "[400]\tvalidation_0-auc:0.933018\n",
      "[600]\tvalidation_0-auc:0.932424\n",
      "Stopping. Best iteration:\n",
      "[447]\tvalidation_0-auc:0.933181\n",
      "\n",
      "err:  0.9331814386469824\n",
      "##################\n",
      "RUN - 4 , SEED - 13192\n",
      "##################\n",
      "[0]\tvalidation_0-auc:0.84672\n",
      "Will train until validation_0-auc hasn't improved in 200 rounds.\n",
      "[200]\tvalidation_0-auc:0.934293\n",
      "[400]\tvalidation_0-auc:0.935605\n",
      "[600]\tvalidation_0-auc:0.935547\n",
      "Stopping. Best iteration:\n",
      "[497]\tvalidation_0-auc:0.936001\n",
      "\n",
      "err:  0.9360013815079078\n",
      "[0]\tvalidation_0-auc:0.837536\n",
      "Will train until validation_0-auc hasn't improved in 200 rounds.\n",
      "[200]\tvalidation_0-auc:0.914657\n",
      "[400]\tvalidation_0-auc:0.921605\n",
      "[600]\tvalidation_0-auc:0.922164\n",
      "[800]\tvalidation_0-auc:0.923489\n",
      "[1000]\tvalidation_0-auc:0.924058\n",
      "[1014]\tvalidation_0-auc:0.924193\n",
      "err:  0.924335094182493\n",
      "[0]\tvalidation_0-auc:0.841843\n",
      "Will train until validation_0-auc hasn't improved in 200 rounds.\n",
      "[200]\tvalidation_0-auc:0.946957\n",
      "[400]\tvalidation_0-auc:0.951647\n",
      "[600]\tvalidation_0-auc:0.952585\n",
      "[800]\tvalidation_0-auc:0.95281\n",
      "Stopping. Best iteration:\n",
      "[777]\tvalidation_0-auc:0.953219\n",
      "\n",
      "err:  0.9532192839448668\n",
      "[0]\tvalidation_0-auc:0.811653\n",
      "Will train until validation_0-auc hasn't improved in 200 rounds.\n",
      "[200]\tvalidation_0-auc:0.924441\n",
      "[400]\tvalidation_0-auc:0.928263\n",
      "[600]\tvalidation_0-auc:0.92908\n",
      "[800]\tvalidation_0-auc:0.930461\n",
      "[1000]\tvalidation_0-auc:0.930722\n",
      "[1014]\tvalidation_0-auc:0.930853\n",
      "err:  0.9309263689808247\n",
      "[0]\tvalidation_0-auc:0.908519\n",
      "Will train until validation_0-auc hasn't improved in 200 rounds.\n",
      "[200]\tvalidation_0-auc:0.947086\n",
      "[400]\tvalidation_0-auc:0.946606\n",
      "Stopping. Best iteration:\n",
      "[272]\tvalidation_0-auc:0.94775\n",
      "\n",
      "err:  0.9477504485778747\n",
      "##################\n",
      "RUN - 5 , SEED - 23123\n",
      "##################\n",
      "[0]\tvalidation_0-auc:0.876459\n",
      "Will train until validation_0-auc hasn't improved in 200 rounds.\n",
      "[200]\tvalidation_0-auc:0.932254\n",
      "[400]\tvalidation_0-auc:0.933319\n",
      "[600]\tvalidation_0-auc:0.933534\n",
      "[800]\tvalidation_0-auc:0.933829\n",
      "Stopping. Best iteration:\n",
      "[675]\tvalidation_0-auc:0.934004\n",
      "\n",
      "err:  0.9340036646129308\n",
      "[0]\tvalidation_0-auc:0.8285\n",
      "Will train until validation_0-auc hasn't improved in 200 rounds.\n",
      "[200]\tvalidation_0-auc:0.918225\n",
      "[400]\tvalidation_0-auc:0.926357\n",
      "[600]\tvalidation_0-auc:0.928796\n",
      "[800]\tvalidation_0-auc:0.930806\n",
      "[1000]\tvalidation_0-auc:0.931462\n",
      "[1014]\tvalidation_0-auc:0.931541\n",
      "err:  0.9315408135899444\n",
      "[0]\tvalidation_0-auc:0.896878\n",
      "Will train until validation_0-auc hasn't improved in 200 rounds.\n",
      "[200]\tvalidation_0-auc:0.949272\n",
      "Stopping. Best iteration:\n",
      "[115]\tvalidation_0-auc:0.95072\n",
      "\n",
      "err:  0.9507200426273704\n",
      "[0]\tvalidation_0-auc:0.887606\n",
      "Will train until validation_0-auc hasn't improved in 200 rounds.\n",
      "[200]\tvalidation_0-auc:0.937365\n",
      "[400]\tvalidation_0-auc:0.938756\n",
      "[600]\tvalidation_0-auc:0.939178\n",
      "[800]\tvalidation_0-auc:0.939264\n",
      "Stopping. Best iteration:\n",
      "[738]\tvalidation_0-auc:0.939721\n",
      "\n",
      "err:  0.9397213517957839\n",
      "[0]\tvalidation_0-auc:0.880402\n",
      "Will train until validation_0-auc hasn't improved in 200 rounds.\n",
      "[200]\tvalidation_0-auc:0.92248\n",
      "[400]\tvalidation_0-auc:0.923792\n",
      "[600]\tvalidation_0-auc:0.922448\n",
      "Stopping. Best iteration:\n",
      "[422]\tvalidation_0-auc:0.924251\n",
      "\n",
      "err:  0.9242507417079713\n",
      "##################\n",
      "RUN - 6 , SEED - 5603\n",
      "##################\n",
      "[0]\tvalidation_0-auc:0.867392\n",
      "Will train until validation_0-auc hasn't improved in 200 rounds.\n",
      "[200]\tvalidation_0-auc:0.924132\n",
      "[400]\tvalidation_0-auc:0.926098\n",
      "[600]\tvalidation_0-auc:0.925372\n",
      "Stopping. Best iteration:\n",
      "[428]\tvalidation_0-auc:0.926401\n",
      "\n"
     ]
    },
    {
     "name": "stdout",
     "output_type": "stream",
     "text": [
      "err:  0.9264009601744616\n",
      "[0]\tvalidation_0-auc:0.904574\n",
      "Will train until validation_0-auc hasn't improved in 200 rounds.\n",
      "[200]\tvalidation_0-auc:0.951067\n",
      "[400]\tvalidation_0-auc:0.953764\n",
      "[600]\tvalidation_0-auc:0.95448\n",
      "[800]\tvalidation_0-auc:0.954807\n",
      "Stopping. Best iteration:\n",
      "[647]\tvalidation_0-auc:0.955043\n",
      "\n",
      "err:  0.9550434301623933\n",
      "[0]\tvalidation_0-auc:0.877417\n",
      "Will train until validation_0-auc hasn't improved in 200 rounds.\n",
      "[200]\tvalidation_0-auc:0.933727\n",
      "[400]\tvalidation_0-auc:0.935183\n",
      "Stopping. Best iteration:\n",
      "[294]\tvalidation_0-auc:0.935753\n",
      "\n",
      "err:  0.9357532658635219\n",
      "[0]\tvalidation_0-auc:0.857741\n",
      "Will train until validation_0-auc hasn't improved in 200 rounds.\n",
      "[200]\tvalidation_0-auc:0.930139\n",
      "[400]\tvalidation_0-auc:0.932267\n",
      "Stopping. Best iteration:\n",
      "[370]\tvalidation_0-auc:0.933037\n",
      "\n",
      "err:  0.933037226609642\n",
      "[0]\tvalidation_0-auc:0.860669\n",
      "Will train until validation_0-auc hasn't improved in 200 rounds.\n",
      "[200]\tvalidation_0-auc:0.933493\n",
      "[400]\tvalidation_0-auc:0.937399\n",
      "[600]\tvalidation_0-auc:0.93856\n",
      "Stopping. Best iteration:\n",
      "[554]\tvalidation_0-auc:0.938922\n",
      "\n",
      "err:  0.938922125104372\n"
     ]
    }
   ],
   "source": [
    "import random\n",
    "import os\n",
    "\n",
    "p1 = do_bag(train, test, target, lgb_params, lgb_seed)\n",
    "p2 = do_bag(train, test, target, xgb_params, xgb_seed, model_type = \"XGB\")\n",
    "final_preds = 0.6 * p1 + 0.4 * p2 "
   ]
  },
  {
   "cell_type": "code",
   "execution_count": 32,
   "metadata": {},
   "outputs": [
    {
     "data": {
      "text/html": [
       "<div>\n",
       "<style scoped>\n",
       "    .dataframe tbody tr th:only-of-type {\n",
       "        vertical-align: middle;\n",
       "    }\n",
       "\n",
       "    .dataframe tbody tr th {\n",
       "        vertical-align: top;\n",
       "    }\n",
       "\n",
       "    .dataframe thead th {\n",
       "        text-align: right;\n",
       "    }\n",
       "</style>\n",
       "<table border=\"1\" class=\"dataframe\">\n",
       "  <thead>\n",
       "    <tr style=\"text-align: right;\">\n",
       "      <th></th>\n",
       "      <th>id</th>\n",
       "      <th>redemption_status</th>\n",
       "    </tr>\n",
       "  </thead>\n",
       "  <tbody>\n",
       "    <tr>\n",
       "      <th>0</th>\n",
       "      <td>3</td>\n",
       "      <td>0.657680</td>\n",
       "    </tr>\n",
       "    <tr>\n",
       "      <th>1</th>\n",
       "      <td>4</td>\n",
       "      <td>0.048866</td>\n",
       "    </tr>\n",
       "    <tr>\n",
       "      <th>2</th>\n",
       "      <td>5</td>\n",
       "      <td>0.599021</td>\n",
       "    </tr>\n",
       "    <tr>\n",
       "      <th>3</th>\n",
       "      <td>8</td>\n",
       "      <td>0.006927</td>\n",
       "    </tr>\n",
       "    <tr>\n",
       "      <th>4</th>\n",
       "      <td>10</td>\n",
       "      <td>0.010786</td>\n",
       "    </tr>\n",
       "  </tbody>\n",
       "</table>\n",
       "</div>"
      ],
      "text/plain": [
       "   id  redemption_status\n",
       "0   3           0.657680\n",
       "1   4           0.048866\n",
       "2   5           0.599021\n",
       "3   8           0.006927\n",
       "4  10           0.010786"
      ]
     },
     "execution_count": 32,
     "metadata": {},
     "output_type": "execute_result"
    }
   ],
   "source": [
    "submit = pd.DataFrame(columns = ['id','redemption_status'])\n",
    "submit['id'] = test_id\n",
    "submit['redemption_status'] = final_preds\n",
    "submit.head()"
   ]
  },
  {
   "cell_type": "code",
   "execution_count": 33,
   "metadata": {},
   "outputs": [],
   "source": [
    "submit.to_csv(\"bagged.csv\")"
   ]
  },
  {
   "cell_type": "code",
   "execution_count": null,
   "metadata": {},
   "outputs": [],
   "source": []
  }
 ],
 "metadata": {
  "kernelspec": {
   "display_name": "Python 3",
   "language": "python",
   "name": "python3"
  },
  "language_info": {
   "codemirror_mode": {
    "name": "ipython",
    "version": 3
   },
   "file_extension": ".py",
   "mimetype": "text/x-python",
   "name": "python",
   "nbconvert_exporter": "python",
   "pygments_lexer": "ipython3",
   "version": "3.7.0"
  }
 },
 "nbformat": 4,
 "nbformat_minor": 2
}
